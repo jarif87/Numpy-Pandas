{
  "nbformat": 4,
  "nbformat_minor": 0,
  "metadata": {
    "colab": {
      "provenance": []
    },
    "kernelspec": {
      "name": "python3",
      "display_name": "Python 3"
    },
    "language_info": {
      "name": "python"
    }
  },
  "cells": [
    {
      "cell_type": "code",
      "execution_count": 1,
      "metadata": {
        "colab": {
          "base_uri": "https://localhost:8080/"
        },
        "id": "scdhxuDsU6Hv",
        "outputId": "322df622-a56f-4eff-b277-6272f7362eb7"
      },
      "outputs": [
        {
          "output_type": "stream",
          "name": "stdout",
          "text": [
            "Drive already mounted at /content/gdrive; to attempt to forcibly remount, call drive.mount(\"/content/gdrive\", force_remount=True).\n"
          ]
        }
      ],
      "source": [
        "\n",
        "from google.colab import drive\n",
        "drive.mount('/content/gdrive')\n"
      ]
    },
    {
      "cell_type": "code",
      "source": [
        "import torch\n",
        "import numpy as np\n",
        "import pandas as pd\n",
        "from torch import tensor"
      ],
      "metadata": {
        "id": "CtuyKI9EU7hO"
      },
      "execution_count": 2,
      "outputs": []
    },
    {
      "cell_type": "code",
      "source": [
        "train_df=pd.read_csv(\"/content/gdrive/MyDrive/Dataset/adult_train.csv\")\n",
        "test_df=pd.read_csv(\"/content/gdrive/MyDrive/Dataset/adult_test.csv\")"
      ],
      "metadata": {
        "id": "N6seKiRtU7k2"
      },
      "execution_count": 3,
      "outputs": []
    },
    {
      "cell_type": "code",
      "source": [
        "train_df.head()"
      ],
      "metadata": {
        "colab": {
          "base_uri": "https://localhost:8080/",
          "height": 260
        },
        "id": "yCClI8uAU7n9",
        "outputId": "3e0e00d1-4208-4689-92f6-0c3ab3ed8057"
      },
      "execution_count": 4,
      "outputs": [
        {
          "output_type": "execute_result",
          "data": {
            "text/plain": [
              "   age  fnlwgt  educational-num  relationship  race  gender  capital-gain  \\\n",
              "0   81   36147               15             0     1       1         10605   \n",
              "1   46  525848                7             0     1       1             0   \n",
              "2   39   77516               13             1     1       1          2174   \n",
              "3   39  179137                9             1     1       0             0   \n",
              "4   46  215943                9             4     1       0             0   \n",
              "\n",
              "   capital-loss  hours-per-week  native-country  income  log_capital_gain  \\\n",
              "0             0               2              38      50          9.269175   \n",
              "1             0              48              38      50          0.000000   \n",
              "2             0              40              38      50          7.684784   \n",
              "3             0              40              38      50          0.000000   \n",
              "4             0              40              38      50          0.000000   \n",
              "\n",
              "   log_capital_loss  Private_Workclass  education_label  marital_label  \\\n",
              "0               0.0                  1                0              1   \n",
              "1               0.0                  0                0              1   \n",
              "2               0.0                  0                1              0   \n",
              "3               0.0                  1                0              0   \n",
              "4               0.0                  1                0              0   \n",
              "\n",
              "   white_collar_label  gender_male  native_country_label  high_income  \n",
              "0                   0            1                     1            0  \n",
              "1                   0            1                     1            1  \n",
              "2                   1            1                     1            1  \n",
              "3                   1            0                     1            1  \n",
              "4                   1            0                     1            1  "
            ],
            "text/html": [
              "\n",
              "  <div id=\"df-1f085273-8348-4385-8bc3-197bba9356e9\" class=\"colab-df-container\">\n",
              "    <div>\n",
              "<style scoped>\n",
              "    .dataframe tbody tr th:only-of-type {\n",
              "        vertical-align: middle;\n",
              "    }\n",
              "\n",
              "    .dataframe tbody tr th {\n",
              "        vertical-align: top;\n",
              "    }\n",
              "\n",
              "    .dataframe thead th {\n",
              "        text-align: right;\n",
              "    }\n",
              "</style>\n",
              "<table border=\"1\" class=\"dataframe\">\n",
              "  <thead>\n",
              "    <tr style=\"text-align: right;\">\n",
              "      <th></th>\n",
              "      <th>age</th>\n",
              "      <th>fnlwgt</th>\n",
              "      <th>educational-num</th>\n",
              "      <th>relationship</th>\n",
              "      <th>race</th>\n",
              "      <th>gender</th>\n",
              "      <th>capital-gain</th>\n",
              "      <th>capital-loss</th>\n",
              "      <th>hours-per-week</th>\n",
              "      <th>native-country</th>\n",
              "      <th>income</th>\n",
              "      <th>log_capital_gain</th>\n",
              "      <th>log_capital_loss</th>\n",
              "      <th>Private_Workclass</th>\n",
              "      <th>education_label</th>\n",
              "      <th>marital_label</th>\n",
              "      <th>white_collar_label</th>\n",
              "      <th>gender_male</th>\n",
              "      <th>native_country_label</th>\n",
              "      <th>high_income</th>\n",
              "    </tr>\n",
              "  </thead>\n",
              "  <tbody>\n",
              "    <tr>\n",
              "      <th>0</th>\n",
              "      <td>81</td>\n",
              "      <td>36147</td>\n",
              "      <td>15</td>\n",
              "      <td>0</td>\n",
              "      <td>1</td>\n",
              "      <td>1</td>\n",
              "      <td>10605</td>\n",
              "      <td>0</td>\n",
              "      <td>2</td>\n",
              "      <td>38</td>\n",
              "      <td>50</td>\n",
              "      <td>9.269175</td>\n",
              "      <td>0.0</td>\n",
              "      <td>1</td>\n",
              "      <td>0</td>\n",
              "      <td>1</td>\n",
              "      <td>0</td>\n",
              "      <td>1</td>\n",
              "      <td>1</td>\n",
              "      <td>0</td>\n",
              "    </tr>\n",
              "    <tr>\n",
              "      <th>1</th>\n",
              "      <td>46</td>\n",
              "      <td>525848</td>\n",
              "      <td>7</td>\n",
              "      <td>0</td>\n",
              "      <td>1</td>\n",
              "      <td>1</td>\n",
              "      <td>0</td>\n",
              "      <td>0</td>\n",
              "      <td>48</td>\n",
              "      <td>38</td>\n",
              "      <td>50</td>\n",
              "      <td>0.000000</td>\n",
              "      <td>0.0</td>\n",
              "      <td>0</td>\n",
              "      <td>0</td>\n",
              "      <td>1</td>\n",
              "      <td>0</td>\n",
              "      <td>1</td>\n",
              "      <td>1</td>\n",
              "      <td>1</td>\n",
              "    </tr>\n",
              "    <tr>\n",
              "      <th>2</th>\n",
              "      <td>39</td>\n",
              "      <td>77516</td>\n",
              "      <td>13</td>\n",
              "      <td>1</td>\n",
              "      <td>1</td>\n",
              "      <td>1</td>\n",
              "      <td>2174</td>\n",
              "      <td>0</td>\n",
              "      <td>40</td>\n",
              "      <td>38</td>\n",
              "      <td>50</td>\n",
              "      <td>7.684784</td>\n",
              "      <td>0.0</td>\n",
              "      <td>0</td>\n",
              "      <td>1</td>\n",
              "      <td>0</td>\n",
              "      <td>1</td>\n",
              "      <td>1</td>\n",
              "      <td>1</td>\n",
              "      <td>1</td>\n",
              "    </tr>\n",
              "    <tr>\n",
              "      <th>3</th>\n",
              "      <td>39</td>\n",
              "      <td>179137</td>\n",
              "      <td>9</td>\n",
              "      <td>1</td>\n",
              "      <td>1</td>\n",
              "      <td>0</td>\n",
              "      <td>0</td>\n",
              "      <td>0</td>\n",
              "      <td>40</td>\n",
              "      <td>38</td>\n",
              "      <td>50</td>\n",
              "      <td>0.000000</td>\n",
              "      <td>0.0</td>\n",
              "      <td>1</td>\n",
              "      <td>0</td>\n",
              "      <td>0</td>\n",
              "      <td>1</td>\n",
              "      <td>0</td>\n",
              "      <td>1</td>\n",
              "      <td>1</td>\n",
              "    </tr>\n",
              "    <tr>\n",
              "      <th>4</th>\n",
              "      <td>46</td>\n",
              "      <td>215943</td>\n",
              "      <td>9</td>\n",
              "      <td>4</td>\n",
              "      <td>1</td>\n",
              "      <td>0</td>\n",
              "      <td>0</td>\n",
              "      <td>0</td>\n",
              "      <td>40</td>\n",
              "      <td>38</td>\n",
              "      <td>50</td>\n",
              "      <td>0.000000</td>\n",
              "      <td>0.0</td>\n",
              "      <td>1</td>\n",
              "      <td>0</td>\n",
              "      <td>0</td>\n",
              "      <td>1</td>\n",
              "      <td>0</td>\n",
              "      <td>1</td>\n",
              "      <td>1</td>\n",
              "    </tr>\n",
              "  </tbody>\n",
              "</table>\n",
              "</div>\n",
              "    <div class=\"colab-df-buttons\">\n",
              "\n",
              "  <div class=\"colab-df-container\">\n",
              "    <button class=\"colab-df-convert\" onclick=\"convertToInteractive('df-1f085273-8348-4385-8bc3-197bba9356e9')\"\n",
              "            title=\"Convert this dataframe to an interactive table.\"\n",
              "            style=\"display:none;\">\n",
              "\n",
              "  <svg xmlns=\"http://www.w3.org/2000/svg\" height=\"24px\" viewBox=\"0 -960 960 960\">\n",
              "    <path d=\"M120-120v-720h720v720H120Zm60-500h600v-160H180v160Zm220 220h160v-160H400v160Zm0 220h160v-160H400v160ZM180-400h160v-160H180v160Zm440 0h160v-160H620v160ZM180-180h160v-160H180v160Zm440 0h160v-160H620v160Z\"/>\n",
              "  </svg>\n",
              "    </button>\n",
              "\n",
              "  <style>\n",
              "    .colab-df-container {\n",
              "      display:flex;\n",
              "      gap: 12px;\n",
              "    }\n",
              "\n",
              "    .colab-df-convert {\n",
              "      background-color: #E8F0FE;\n",
              "      border: none;\n",
              "      border-radius: 50%;\n",
              "      cursor: pointer;\n",
              "      display: none;\n",
              "      fill: #1967D2;\n",
              "      height: 32px;\n",
              "      padding: 0 0 0 0;\n",
              "      width: 32px;\n",
              "    }\n",
              "\n",
              "    .colab-df-convert:hover {\n",
              "      background-color: #E2EBFA;\n",
              "      box-shadow: 0px 1px 2px rgba(60, 64, 67, 0.3), 0px 1px 3px 1px rgba(60, 64, 67, 0.15);\n",
              "      fill: #174EA6;\n",
              "    }\n",
              "\n",
              "    .colab-df-buttons div {\n",
              "      margin-bottom: 4px;\n",
              "    }\n",
              "\n",
              "    [theme=dark] .colab-df-convert {\n",
              "      background-color: #3B4455;\n",
              "      fill: #D2E3FC;\n",
              "    }\n",
              "\n",
              "    [theme=dark] .colab-df-convert:hover {\n",
              "      background-color: #434B5C;\n",
              "      box-shadow: 0px 1px 3px 1px rgba(0, 0, 0, 0.15);\n",
              "      filter: drop-shadow(0px 1px 2px rgba(0, 0, 0, 0.3));\n",
              "      fill: #FFFFFF;\n",
              "    }\n",
              "  </style>\n",
              "\n",
              "    <script>\n",
              "      const buttonEl =\n",
              "        document.querySelector('#df-1f085273-8348-4385-8bc3-197bba9356e9 button.colab-df-convert');\n",
              "      buttonEl.style.display =\n",
              "        google.colab.kernel.accessAllowed ? 'block' : 'none';\n",
              "\n",
              "      async function convertToInteractive(key) {\n",
              "        const element = document.querySelector('#df-1f085273-8348-4385-8bc3-197bba9356e9');\n",
              "        const dataTable =\n",
              "          await google.colab.kernel.invokeFunction('convertToInteractive',\n",
              "                                                    [key], {});\n",
              "        if (!dataTable) return;\n",
              "\n",
              "        const docLinkHtml = 'Like what you see? Visit the ' +\n",
              "          '<a target=\"_blank\" href=https://colab.research.google.com/notebooks/data_table.ipynb>data table notebook</a>'\n",
              "          + ' to learn more about interactive tables.';\n",
              "        element.innerHTML = '';\n",
              "        dataTable['output_type'] = 'display_data';\n",
              "        await google.colab.output.renderOutput(dataTable, element);\n",
              "        const docLink = document.createElement('div');\n",
              "        docLink.innerHTML = docLinkHtml;\n",
              "        element.appendChild(docLink);\n",
              "      }\n",
              "    </script>\n",
              "  </div>\n",
              "\n",
              "\n",
              "<div id=\"df-a3f48cff-29c3-4a7f-8220-b341f68dad2b\">\n",
              "  <button class=\"colab-df-quickchart\" onclick=\"quickchart('df-a3f48cff-29c3-4a7f-8220-b341f68dad2b')\"\n",
              "            title=\"Suggest charts\"\n",
              "            style=\"display:none;\">\n",
              "\n",
              "<svg xmlns=\"http://www.w3.org/2000/svg\" height=\"24px\"viewBox=\"0 0 24 24\"\n",
              "     width=\"24px\">\n",
              "    <g>\n",
              "        <path d=\"M19 3H5c-1.1 0-2 .9-2 2v14c0 1.1.9 2 2 2h14c1.1 0 2-.9 2-2V5c0-1.1-.9-2-2-2zM9 17H7v-7h2v7zm4 0h-2V7h2v10zm4 0h-2v-4h2v4z\"/>\n",
              "    </g>\n",
              "</svg>\n",
              "  </button>\n",
              "\n",
              "<style>\n",
              "  .colab-df-quickchart {\n",
              "      --bg-color: #E8F0FE;\n",
              "      --fill-color: #1967D2;\n",
              "      --hover-bg-color: #E2EBFA;\n",
              "      --hover-fill-color: #174EA6;\n",
              "      --disabled-fill-color: #AAA;\n",
              "      --disabled-bg-color: #DDD;\n",
              "  }\n",
              "\n",
              "  [theme=dark] .colab-df-quickchart {\n",
              "      --bg-color: #3B4455;\n",
              "      --fill-color: #D2E3FC;\n",
              "      --hover-bg-color: #434B5C;\n",
              "      --hover-fill-color: #FFFFFF;\n",
              "      --disabled-bg-color: #3B4455;\n",
              "      --disabled-fill-color: #666;\n",
              "  }\n",
              "\n",
              "  .colab-df-quickchart {\n",
              "    background-color: var(--bg-color);\n",
              "    border: none;\n",
              "    border-radius: 50%;\n",
              "    cursor: pointer;\n",
              "    display: none;\n",
              "    fill: var(--fill-color);\n",
              "    height: 32px;\n",
              "    padding: 0;\n",
              "    width: 32px;\n",
              "  }\n",
              "\n",
              "  .colab-df-quickchart:hover {\n",
              "    background-color: var(--hover-bg-color);\n",
              "    box-shadow: 0 1px 2px rgba(60, 64, 67, 0.3), 0 1px 3px 1px rgba(60, 64, 67, 0.15);\n",
              "    fill: var(--button-hover-fill-color);\n",
              "  }\n",
              "\n",
              "  .colab-df-quickchart-complete:disabled,\n",
              "  .colab-df-quickchart-complete:disabled:hover {\n",
              "    background-color: var(--disabled-bg-color);\n",
              "    fill: var(--disabled-fill-color);\n",
              "    box-shadow: none;\n",
              "  }\n",
              "\n",
              "  .colab-df-spinner {\n",
              "    border: 2px solid var(--fill-color);\n",
              "    border-color: transparent;\n",
              "    border-bottom-color: var(--fill-color);\n",
              "    animation:\n",
              "      spin 1s steps(1) infinite;\n",
              "  }\n",
              "\n",
              "  @keyframes spin {\n",
              "    0% {\n",
              "      border-color: transparent;\n",
              "      border-bottom-color: var(--fill-color);\n",
              "      border-left-color: var(--fill-color);\n",
              "    }\n",
              "    20% {\n",
              "      border-color: transparent;\n",
              "      border-left-color: var(--fill-color);\n",
              "      border-top-color: var(--fill-color);\n",
              "    }\n",
              "    30% {\n",
              "      border-color: transparent;\n",
              "      border-left-color: var(--fill-color);\n",
              "      border-top-color: var(--fill-color);\n",
              "      border-right-color: var(--fill-color);\n",
              "    }\n",
              "    40% {\n",
              "      border-color: transparent;\n",
              "      border-right-color: var(--fill-color);\n",
              "      border-top-color: var(--fill-color);\n",
              "    }\n",
              "    60% {\n",
              "      border-color: transparent;\n",
              "      border-right-color: var(--fill-color);\n",
              "    }\n",
              "    80% {\n",
              "      border-color: transparent;\n",
              "      border-right-color: var(--fill-color);\n",
              "      border-bottom-color: var(--fill-color);\n",
              "    }\n",
              "    90% {\n",
              "      border-color: transparent;\n",
              "      border-bottom-color: var(--fill-color);\n",
              "    }\n",
              "  }\n",
              "</style>\n",
              "\n",
              "  <script>\n",
              "    async function quickchart(key) {\n",
              "      const quickchartButtonEl =\n",
              "        document.querySelector('#' + key + ' button');\n",
              "      quickchartButtonEl.disabled = true;  // To prevent multiple clicks.\n",
              "      quickchartButtonEl.classList.add('colab-df-spinner');\n",
              "      try {\n",
              "        const charts = await google.colab.kernel.invokeFunction(\n",
              "            'suggestCharts', [key], {});\n",
              "      } catch (error) {\n",
              "        console.error('Error during call to suggestCharts:', error);\n",
              "      }\n",
              "      quickchartButtonEl.classList.remove('colab-df-spinner');\n",
              "      quickchartButtonEl.classList.add('colab-df-quickchart-complete');\n",
              "    }\n",
              "    (() => {\n",
              "      let quickchartButtonEl =\n",
              "        document.querySelector('#df-a3f48cff-29c3-4a7f-8220-b341f68dad2b button');\n",
              "      quickchartButtonEl.style.display =\n",
              "        google.colab.kernel.accessAllowed ? 'block' : 'none';\n",
              "    })();\n",
              "  </script>\n",
              "</div>\n",
              "\n",
              "    </div>\n",
              "  </div>\n"
            ]
          },
          "metadata": {},
          "execution_count": 4
        }
      ]
    },
    {
      "cell_type": "code",
      "source": [
        "train_df.isnull().sum()"
      ],
      "metadata": {
        "colab": {
          "base_uri": "https://localhost:8080/"
        },
        "id": "0zry1c5jU7q3",
        "outputId": "1e0eec4c-253b-4089-982b-cbdd9609cb9c"
      },
      "execution_count": 5,
      "outputs": [
        {
          "output_type": "execute_result",
          "data": {
            "text/plain": [
              "age                     0\n",
              "fnlwgt                  0\n",
              "educational-num         0\n",
              "relationship            0\n",
              "race                    0\n",
              "gender                  0\n",
              "capital-gain            0\n",
              "capital-loss            0\n",
              "hours-per-week          0\n",
              "native-country          0\n",
              "income                  0\n",
              "log_capital_gain        0\n",
              "log_capital_loss        0\n",
              "Private_Workclass       0\n",
              "education_label         0\n",
              "marital_label           0\n",
              "white_collar_label      0\n",
              "gender_male             0\n",
              "native_country_label    0\n",
              "high_income             0\n",
              "dtype: int64"
            ]
          },
          "metadata": {},
          "execution_count": 5
        }
      ]
    },
    {
      "cell_type": "code",
      "source": [
        "train_feature_x=train_df[train_df.columns[: -1]].astype(float)\n",
        "train_features=tensor(train_feature_x.values,dtype=torch.float)\n",
        "train_label=tensor(train_df.high_income,dtype=torch.int)"
      ],
      "metadata": {
        "id": "Z9GeWnKrU7uM"
      },
      "execution_count": 6,
      "outputs": []
    },
    {
      "cell_type": "code",
      "source": [
        "max_value,_=train_features.max(dim=0)\n",
        "train_features/=max_value\n",
        "train_features"
      ],
      "metadata": {
        "colab": {
          "base_uri": "https://localhost:8080/"
        },
        "id": "ncByvgymU7xI",
        "outputId": "43a6c573-c6b0-42eb-9fee-9f7c7eeb39a8"
      },
      "execution_count": 7,
      "outputs": [
        {
          "output_type": "execute_result",
          "data": {
            "text/plain": [
              "tensor([[0.9000, 0.0243, 0.9375,  ..., 0.0000, 1.0000, 1.0000],\n",
              "        [0.5111, 0.3528, 0.4375,  ..., 0.0000, 1.0000, 1.0000],\n",
              "        [0.4333, 0.0520, 0.8125,  ..., 1.0000, 1.0000, 1.0000],\n",
              "        ...,\n",
              "        [0.3333, 0.1942, 0.8125,  ..., 1.0000, 0.0000, 1.0000],\n",
              "        [0.4333, 0.2024, 0.6250,  ..., 1.0000, 0.0000, 1.0000],\n",
              "        [0.2444, 0.1642, 0.4375,  ..., 0.0000, 0.0000, 1.0000]])"
            ]
          },
          "metadata": {},
          "execution_count": 7
        }
      ]
    },
    {
      "cell_type": "code",
      "source": [
        "test_feature_x = test_df[test_df.columns[:-1]].astype(float)\n",
        "test_features = tensor(test_feature_x.values, dtype=torch.float)\n",
        "test_label = tensor(test_df.high_income, dtype=torch.int)\n",
        "\n"
      ],
      "metadata": {
        "id": "6asQqOvDU70h"
      },
      "execution_count": 8,
      "outputs": []
    },
    {
      "cell_type": "code",
      "source": [
        "max_value, _ = test_features.max(dim=0)\n",
        "test_features /= max_value\n",
        "test_features"
      ],
      "metadata": {
        "colab": {
          "base_uri": "https://localhost:8080/"
        },
        "id": "EoavrobDU73W",
        "outputId": "d821c9de-81dc-4dbc-de90-a9ad0c5f0111"
      },
      "execution_count": 9,
      "outputs": [
        {
          "output_type": "execute_result",
          "data": {
            "text/plain": [
              "tensor([[0.3444, 0.3083, 0.6250,  ..., 0.0000, 1.0000, 0.0000],\n",
              "        [0.2111, 0.1558, 0.6250,  ..., 0.0000, 0.0000, 1.0000],\n",
              "        [0.2333, 0.1217, 0.5625,  ..., 0.0000, 1.0000, 1.0000],\n",
              "        ...,\n",
              "        [0.3000, 0.1743, 0.1250,  ..., 0.0000, 1.0000, 0.0000],\n",
              "        [0.5000, 0.1493, 0.4375,  ..., 0.0000, 1.0000, 1.0000],\n",
              "        [0.7889, 0.1397, 0.6250,  ..., 1.0000, 1.0000, 1.0000]])"
            ]
          },
          "metadata": {},
          "execution_count": 9
        }
      ]
    },
    {
      "cell_type": "code",
      "source": [
        "def init_weights():\n",
        "  torch.manual_seed(42)\n",
        "  number_parameter=train_features.shape[1]\n",
        "  weights=torch.rand(number_parameter)\n",
        "  return weights.requires_grad_()"
      ],
      "metadata": {
        "id": "cnJxE2CfYsTF"
      },
      "execution_count": 10,
      "outputs": []
    },
    {
      "cell_type": "code",
      "source": [
        "def calculate_prediction(weights,features):\n",
        "  multi=(features*weights)\n",
        "  prediction=multi.sum(axis=1)\n",
        "  return prediction"
      ],
      "metadata": {
        "id": "GVSnDwBCYsK-"
      },
      "execution_count": 11,
      "outputs": []
    },
    {
      "cell_type": "code",
      "source": [
        "def calculate_loss(prediction,label):\n",
        "  return torch.abs(prediction-label).mean()"
      ],
      "metadata": {
        "id": "Jjz1DAJ3YsHw"
      },
      "execution_count": 12,
      "outputs": []
    },
    {
      "cell_type": "code",
      "source": [
        "def update_weight(weights,lr):\n",
        "  weights.sub_(weights.grad*lr)\n",
        "  return"
      ],
      "metadata": {
        "id": "iv1adZ_PYsEj"
      },
      "execution_count": 13,
      "outputs": []
    },
    {
      "cell_type": "code",
      "source": [
        "def one_epoch(epoch_no, weights, lr):\n",
        "  preds = calculate_prediction(weights,train_features)\n",
        "  loss = calculate_loss(preds, train_label)\n",
        "  loss.backward()\n",
        "  with torch.no_grad(): update_weight(weights, lr)\n",
        "  print(f\"Epoch {epoch_no+1} => Loss: {loss}\")"
      ],
      "metadata": {
        "id": "CCHH8H9lYsAW"
      },
      "execution_count": 14,
      "outputs": []
    },
    {
      "cell_type": "code",
      "source": [
        "def train_model(epochs, lr):\n",
        "  weights = init_weights()\n",
        "  for epoch_no in range(epochs):\n",
        "    one_epoch(epoch_no, weights, lr)\n",
        "  return weights"
      ],
      "metadata": {
        "id": "Q7rn2k_7Yr8u"
      },
      "execution_count": 15,
      "outputs": []
    },
    {
      "cell_type": "code",
      "source": [
        "weights = train_model(epochs=15, lr=0.01)"
      ],
      "metadata": {
        "colab": {
          "base_uri": "https://localhost:8080/"
        },
        "id": "1U6G5vjVYr5T",
        "outputId": "298938bb-fb75-4f29-c784-6b578c8723ef"
      },
      "execution_count": 16,
      "outputs": [
        {
          "output_type": "stream",
          "name": "stdout",
          "text": [
            "Epoch 1 => Loss: 4.401118278503418\n",
            "Epoch 2 => Loss: 4.337820053100586\n",
            "Epoch 3 => Loss: 4.2112226486206055\n",
            "Epoch 4 => Loss: 4.021326065063477\n",
            "Epoch 5 => Loss: 3.768131971359253\n",
            "Epoch 6 => Loss: 3.45163893699646\n",
            "Epoch 7 => Loss: 3.0718469619750977\n",
            "Epoch 8 => Loss: 2.628756284713745\n",
            "Epoch 9 => Loss: 2.122382640838623\n",
            "Epoch 10 => Loss: 1.5549633502960205\n",
            "Epoch 11 => Loss: 0.9629470705986023\n",
            "Epoch 12 => Loss: 0.6690229773521423\n",
            "Epoch 13 => Loss: 0.8212868571281433\n",
            "Epoch 14 => Loss: 1.225162148475647\n",
            "Epoch 15 => Loss: 1.7557687759399414\n"
          ]
        }
      ]
    },
    {
      "cell_type": "code",
      "source": [
        "torch.save(weights, \"linear_model_weights.pt\")"
      ],
      "metadata": {
        "id": "WlyQIzy4Yr10"
      },
      "execution_count": 17,
      "outputs": []
    },
    {
      "cell_type": "code",
      "source": [
        "test_preds = calculate_prediction(weights, test_features)\n",
        "test_preds[:5]"
      ],
      "metadata": {
        "colab": {
          "base_uri": "https://localhost:8080/"
        },
        "id": "1RCVyu-hYryb",
        "outputId": "f8272e86-1346-40f1-b877-1472ae150956"
      },
      "execution_count": 18,
      "outputs": [
        {
          "output_type": "execute_result",
          "data": {
            "text/plain": [
              "tensor([-0.6887, -1.9811, -1.4544, -1.9354, -1.5654], grad_fn=<SliceBackward0>)"
            ]
          },
          "metadata": {},
          "execution_count": 18
        }
      ]
    },
    {
      "cell_type": "code",
      "source": [
        "results = test_label == (test_preds > 0.5).int()\n",
        "results[:5]"
      ],
      "metadata": {
        "colab": {
          "base_uri": "https://localhost:8080/"
        },
        "id": "P-B1rmoAU76i",
        "outputId": "dce94baf-27f9-4755-9d6c-2d6a2fea7d47"
      },
      "execution_count": 19,
      "outputs": [
        {
          "output_type": "execute_result",
          "data": {
            "text/plain": [
              "tensor([False, False, False, False, False])"
            ]
          },
          "metadata": {},
          "execution_count": 19
        }
      ]
    },
    {
      "cell_type": "code",
      "source": [
        "results.float().mean()"
      ],
      "metadata": {
        "colab": {
          "base_uri": "https://localhost:8080/"
        },
        "id": "rTVIstNJfFRe",
        "outputId": "89d235b4-3e99-4a65-ebd4-3a6f714af003"
      },
      "execution_count": 20,
      "outputs": [
        {
          "output_type": "execute_result",
          "data": {
            "text/plain": [
              "tensor(0.2398)"
            ]
          },
          "metadata": {},
          "execution_count": 20
        }
      ]
    },
    {
      "cell_type": "code",
      "source": [
        "def accuracy(weights,features):\n",
        "  prediction=calculate_prediction(weights,features)\n",
        "  result=test_label==(prediction>0.5).int()\n",
        "  return result.float().mean()"
      ],
      "metadata": {
        "id": "GMvgwq5fXbwS"
      },
      "execution_count": 21,
      "outputs": []
    },
    {
      "cell_type": "code",
      "source": [
        "trained_weights = torch.load(\"/content/linear_model_weights.pt\")"
      ],
      "metadata": {
        "id": "97YbjwrNXbs_"
      },
      "execution_count": 22,
      "outputs": []
    },
    {
      "cell_type": "code",
      "source": [
        "accuracy(trained_weights, test_features)"
      ],
      "metadata": {
        "colab": {
          "base_uri": "https://localhost:8080/"
        },
        "id": "H5F5cD0SXbpS",
        "outputId": "292c6246-b517-4f5b-dca4-cd1cff5bfab7"
      },
      "execution_count": 23,
      "outputs": [
        {
          "output_type": "execute_result",
          "data": {
            "text/plain": [
              "tensor(0.2398)"
            ]
          },
          "metadata": {},
          "execution_count": 23
        }
      ]
    },
    {
      "cell_type": "code",
      "source": [],
      "metadata": {
        "id": "xSmDdhHaXbeK"
      },
      "execution_count": 23,
      "outputs": []
    },
    {
      "cell_type": "markdown",
      "source": [
        "# Introducing Sigmoid\n",
        "\n",
        "**Sigmoid stands for $\\sigma = \\frac{1}{1+e^{-x}}$**\n",
        "\n"
      ],
      "metadata": {
        "id": "DoZoVAhxfyek"
      }
    },
    {
      "cell_type": "code",
      "source": [
        "import sympy # symbolic python\n",
        "sympy.plot(\"x+1\", xlim=(-10,10))"
      ],
      "metadata": {
        "colab": {
          "base_uri": "https://localhost:8080/",
          "height": 504
        },
        "id": "j7cWs5urXbaz",
        "outputId": "b143f174-c053-4405-beef-c3437d5805ba"
      },
      "execution_count": 24,
      "outputs": [
        {
          "output_type": "display_data",
          "data": {
            "text/plain": [
              "<Figure size 640x480 with 1 Axes>"
            ],
            "image/png": "[encoded data removed]"
          },
          "metadata": {}
        },
        {
          "output_type": "execute_result",
          "data": {
            "text/plain": [
              "<sympy.plotting.plot.Plot at 0x7c478e9c3bb0>"
            ]
          },
          "metadata": {},
          "execution_count": 24
        }
      ]
    },
    {
      "cell_type": "code",
      "source": [
        "import sympy # symbolic python\n",
        "sympy.plot(\"1/(1+exp(-x))\", xlim=(-10,10))"
      ],
      "metadata": {
        "colab": {
          "base_uri": "https://localhost:8080/",
          "height": 501
        },
        "id": "tJopMZYQ2uxb",
        "outputId": "0b9dd351-1469-4f90-85e5-a0918db1a71a"
      },
      "execution_count": 25,
      "outputs": [
        {
          "output_type": "display_data",
          "data": {
            "text/plain": [
              "<Figure size 640x480 with 1 Axes>"
            ],
            "image/png": "[encoded data removed]"
          },
          "metadata": {}
        },
        {
          "output_type": "execute_result",
          "data": {
            "text/plain": [
              "<sympy.plotting.plot.Plot at 0x7c478e7202e0>"
            ]
          },
          "metadata": {},
          "execution_count": 25
        }
      ]
    },
    {
      "cell_type": "markdown",
      "source": [
        "# Using Sigmoid to retrain the model"
      ],
      "metadata": {
        "id": "iJfB0zKf286Z"
      }
    },
    {
      "cell_type": "code",
      "source": [
        "def calculate_prediction(weights, features):\n",
        "  mults = features @ weights # @ means matrix multiplication\n",
        "  preds = torch.sigmoid(mults)\n",
        "  return preds"
      ],
      "metadata": {
        "id": "CIci2Jof2u0z"
      },
      "execution_count": 26,
      "outputs": []
    },
    {
      "cell_type": "code",
      "source": [
        "def init_weights():\n",
        "  torch.manual_seed(42)\n",
        "  n_params = train_features.shape[1]\n",
        "  weights = torch.rand(n_params)\n",
        "  return weights.requires_grad_()"
      ],
      "metadata": {
        "id": "1f6rQd9V2u3t"
      },
      "execution_count": 27,
      "outputs": []
    },
    {
      "cell_type": "code",
      "source": [
        "def calculate_loss(preds, labels):\n",
        "  return torch.abs(preds-labels).mean()"
      ],
      "metadata": {
        "id": "bLudlan02u6q"
      },
      "execution_count": 28,
      "outputs": []
    },
    {
      "cell_type": "code",
      "source": [
        "def update_weights(weights, lr):\n",
        "  weights.sub_(weights.grad * lr)\n",
        "  return"
      ],
      "metadata": {
        "id": "0qq1nfDm2u9q"
      },
      "execution_count": 29,
      "outputs": []
    },
    {
      "cell_type": "code",
      "source": [
        "def one_epoch(epoch_no, weights, lr):\n",
        "  preds = calculate_prediction(weights, train_features)\n",
        "  loss = calculate_loss(preds, train_label)\n",
        "  loss.backward()\n",
        "  with torch.no_grad(): update_weights(weights, lr)\n",
        "  print(f\"Epoch {epoch_no+1} => Loss: {loss}\")"
      ],
      "metadata": {
        "id": "RZCE-bqw2vAy"
      },
      "execution_count": 30,
      "outputs": []
    },
    {
      "cell_type": "code",
      "source": [
        "def train_model(epochs, lr):\n",
        "  weights = init_weights()\n",
        "  for epoch_no in range(epochs):\n",
        "    one_epoch(epoch_no, weights, lr)\n",
        "  return weights"
      ],
      "metadata": {
        "id": "hu_LbkbX2vEB"
      },
      "execution_count": 31,
      "outputs": []
    },
    {
      "cell_type": "code",
      "source": [
        "weights = train_model(epochs=15, lr=2)"
      ],
      "metadata": {
        "colab": {
          "base_uri": "https://localhost:8080/"
        },
        "id": "V0nxGpB72vHi",
        "outputId": "e0407571-b46d-43b5-af96-7e0db2532589"
      },
      "execution_count": 32,
      "outputs": [
        {
          "output_type": "stream",
          "name": "stdout",
          "text": [
            "Epoch 1 => Loss: 0.24599476158618927\n",
            "Epoch 2 => Loss: 0.24555248022079468\n",
            "Epoch 3 => Loss: 0.2447742372751236\n",
            "Epoch 4 => Loss: 0.24382245540618896\n",
            "Epoch 5 => Loss: 0.24285228550434113\n",
            "Epoch 6 => Loss: 0.2419712096452713\n",
            "Epoch 7 => Loss: 0.24123184382915497\n",
            "Epoch 8 => Loss: 0.2406444549560547\n",
            "Epoch 9 => Loss: 0.24019527435302734\n",
            "Epoch 10 => Loss: 0.23986051976680756\n",
            "Epoch 11 => Loss: 0.239615336060524\n",
            "Epoch 12 => Loss: 0.2394377738237381\n",
            "Epoch 13 => Loss: 0.23930998146533966\n",
            "Epoch 14 => Loss: 0.2392183542251587\n",
            "Epoch 15 => Loss: 0.239152729511261\n"
          ]
        }
      ]
    },
    {
      "cell_type": "code",
      "source": [
        "torch.save(weights, \"sigmoid_model_weights.pt\")"
      ],
      "metadata": {
        "id": "7SnK8ZSJ2vKz"
      },
      "execution_count": 33,
      "outputs": []
    },
    {
      "cell_type": "code",
      "source": [
        "test_preds = calculate_prediction(weights, test_features)\n",
        "test_preds[:10]"
      ],
      "metadata": {
        "colab": {
          "base_uri": "https://localhost:8080/"
        },
        "id": "uDG8LtzsU796",
        "outputId": "c4ebe653-9f19-4688-8fab-a6b81b7a78fa"
      },
      "execution_count": 34,
      "outputs": [
        {
          "output_type": "execute_result",
          "data": {
            "text/plain": [
              "tensor([0.9999, 0.9996, 0.9998, 0.9999, 0.9999, 1.0000, 0.9991, 0.9999, 0.9998,\n",
              "        1.0000], grad_fn=<SliceBackward0>)"
            ]
          },
          "metadata": {},
          "execution_count": 34
        }
      ]
    },
    {
      "cell_type": "code",
      "source": [
        "def accuracy(weights, features):\n",
        "  preds = calculate_prediction(weights, features)\n",
        "  results = test_label == (preds > 0.5).int()\n",
        "  return results.float().mean()"
      ],
      "metadata": {
        "id": "0tQmxLgf3oUi"
      },
      "execution_count": 35,
      "outputs": []
    },
    {
      "cell_type": "code",
      "source": [
        "accuracy(weights, test_features)"
      ],
      "metadata": {
        "colab": {
          "base_uri": "https://localhost:8080/"
        },
        "id": "IEVIilpy3oRK",
        "outputId": "c18fd0b0-997e-47f8-8f1e-10fc0a884252"
      },
      "execution_count": 36,
      "outputs": [
        {
          "output_type": "execute_result",
          "data": {
            "text/plain": [
              "tensor(0.7611)"
            ]
          },
          "metadata": {},
          "execution_count": 36
        }
      ]
    },
    {
      "cell_type": "code",
      "source": [],
      "metadata": {
        "id": "VHHOU6ZT3oN9"
      },
      "execution_count": 36,
      "outputs": []
    }
  ]
}