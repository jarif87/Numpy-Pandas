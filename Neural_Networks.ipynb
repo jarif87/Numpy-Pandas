{
  "nbformat": 4,
  "nbformat_minor": 0,
  "metadata": {
    "colab": {
      "provenance": []
    },
    "kernelspec": {
      "name": "python3",
      "display_name": "Python 3"
    },
    "language_info": {
      "name": "python"
    }
  },
  "cells": [
    {
      "cell_type": "code",
      "execution_count": null,
      "metadata": {
        "colab": {
          "base_uri": "https://localhost:8080/"
        },
        "id": "g32YpbnijtEC",
        "outputId": "28d231d8-6ad4-401c-c872-cd206ff84957"
      },
      "outputs": [
        {
          "output_type": "stream",
          "name": "stdout",
          "text": [
            "Drive already mounted at /content/drive; to attempt to forcibly remount, call drive.mount(\"/content/drive\", force_remount=True).\n"
          ]
        }
      ],
      "source": [
        "\n",
        "\n",
        "from google.colab import drive\n",
        "drive.mount('/content/drive')\n"
      ]
    },
    {
      "cell_type": "code",
      "source": [
        "import torch\n",
        "import numpy as np\n",
        "import pandas as pd\n",
        "from torch import tensor"
      ],
      "metadata": {
        "id": "MtNpuyQ4jtpm"
      },
      "execution_count": null,
      "outputs": []
    },
    {
      "cell_type": "code",
      "source": [
        "train_df = pd.read_csv(\"/content/drive/MyDrive/Dataset/adult_train.csv\")\n",
        "test_df = pd.read_csv(\"/content/drive/MyDrive/Dataset/adult_test.csv\")\n",
        "train_df.head()"
      ],
      "metadata": {
        "colab": {
          "base_uri": "https://localhost:8080/",
          "height": 260
        },
        "id": "wBeMSmjSlEvR",
        "outputId": "213d72c6-ef3b-442e-c6b7-6db5cd4475be"
      },
      "execution_count": null,
      "outputs": [
        {
          "output_type": "execute_result",
          "data": {
            "text/plain": [
              "   age  fnlwgt  educational-num  relationship  race  gender  capital-gain  \\\n",
              "0   81   36147               15             0     1       1         10605   \n",
              "1   46  525848                7             0     1       1             0   \n",
              "2   39   77516               13             1     1       1          2174   \n",
              "3   39  179137                9             1     1       0             0   \n",
              "4   46  215943                9             4     1       0             0   \n",
              "\n",
              "   capital-loss  hours-per-week  native-country  income  log_capital_gain  \\\n",
              "0             0               2              38      50          9.269175   \n",
              "1             0              48              38      50          0.000000   \n",
              "2             0              40              38      50          7.684784   \n",
              "3             0              40              38      50          0.000000   \n",
              "4             0              40              38      50          0.000000   \n",
              "\n",
              "   log_capital_loss  Private_Workclass  education_label  marital_label  \\\n",
              "0               0.0                  1                0              1   \n",
              "1               0.0                  0                0              1   \n",
              "2               0.0                  0                1              0   \n",
              "3               0.0                  1                0              0   \n",
              "4               0.0                  1                0              0   \n",
              "\n",
              "   white_collar_label  gender_male  native_country_label  high_income  \n",
              "0                   0            1                     1            0  \n",
              "1                   0            1                     1            1  \n",
              "2                   1            1                     1            1  \n",
              "3                   1            0                     1            1  \n",
              "4                   1            0                     1            1  "
            ],
            "text/html": [
              "\n",
              "  <div id=\"df-e9948d50-f0d7-4431-ba50-641c5eaa047d\" class=\"colab-df-container\">\n",
              "    <div>\n",
              "<style scoped>\n",
              "    .dataframe tbody tr th:only-of-type {\n",
              "        vertical-align: middle;\n",
              "    }\n",
              "\n",
              "    .dataframe tbody tr th {\n",
              "        vertical-align: top;\n",
              "    }\n",
              "\n",
              "    .dataframe thead th {\n",
              "        text-align: right;\n",
              "    }\n",
              "</style>\n",
              "<table border=\"1\" class=\"dataframe\">\n",
              "  <thead>\n",
              "    <tr style=\"text-align: right;\">\n",
              "      <th></th>\n",
              "      <th>age</th>\n",
              "      <th>fnlwgt</th>\n",
              "      <th>educational-num</th>\n",
              "      <th>relationship</th>\n",
              "      <th>race</th>\n",
              "      <th>gender</th>\n",
              "      <th>capital-gain</th>\n",
              "      <th>capital-loss</th>\n",
              "      <th>hours-per-week</th>\n",
              "      <th>native-country</th>\n",
              "      <th>income</th>\n",
              "      <th>log_capital_gain</th>\n",
              "      <th>log_capital_loss</th>\n",
              "      <th>Private_Workclass</th>\n",
              "      <th>education_label</th>\n",
              "      <th>marital_label</th>\n",
              "      <th>white_collar_label</th>\n",
              "      <th>gender_male</th>\n",
              "      <th>native_country_label</th>\n",
              "      <th>high_income</th>\n",
              "    </tr>\n",
              "  </thead>\n",
              "  <tbody>\n",
              "    <tr>\n",
              "      <th>0</th>\n",
              "      <td>81</td>\n",
              "      <td>36147</td>\n",
              "      <td>15</td>\n",
              "      <td>0</td>\n",
              "      <td>1</td>\n",
              "      <td>1</td>\n",
              "      <td>10605</td>\n",
              "      <td>0</td>\n",
              "      <td>2</td>\n",
              "      <td>38</td>\n",
              "      <td>50</td>\n",
              "      <td>9.269175</td>\n",
              "      <td>0.0</td>\n",
              "      <td>1</td>\n",
              "      <td>0</td>\n",
              "      <td>1</td>\n",
              "      <td>0</td>\n",
              "      <td>1</td>\n",
              "      <td>1</td>\n",
              "      <td>0</td>\n",
              "    </tr>\n",
              "    <tr>\n",
              "      <th>1</th>\n",
              "      <td>46</td>\n",
              "      <td>525848</td>\n",
              "      <td>7</td>\n",
              "      <td>0</td>\n",
              "      <td>1</td>\n",
              "      <td>1</td>\n",
              "      <td>0</td>\n",
              "      <td>0</td>\n",
              "      <td>48</td>\n",
              "      <td>38</td>\n",
              "      <td>50</td>\n",
              "      <td>0.000000</td>\n",
              "      <td>0.0</td>\n",
              "      <td>0</td>\n",
              "      <td>0</td>\n",
              "      <td>1</td>\n",
              "      <td>0</td>\n",
              "      <td>1</td>\n",
              "      <td>1</td>\n",
              "      <td>1</td>\n",
              "    </tr>\n",
              "    <tr>\n",
              "      <th>2</th>\n",
              "      <td>39</td>\n",
              "      <td>77516</td>\n",
              "      <td>13</td>\n",
              "      <td>1</td>\n",
              "      <td>1</td>\n",
              "      <td>1</td>\n",
              "      <td>2174</td>\n",
              "      <td>0</td>\n",
              "      <td>40</td>\n",
              "      <td>38</td>\n",
              "      <td>50</td>\n",
              "      <td>7.684784</td>\n",
              "      <td>0.0</td>\n",
              "      <td>0</td>\n",
              "      <td>1</td>\n",
              "      <td>0</td>\n",
              "      <td>1</td>\n",
              "      <td>1</td>\n",
              "      <td>1</td>\n",
              "      <td>1</td>\n",
              "    </tr>\n",
              "    <tr>\n",
              "      <th>3</th>\n",
              "      <td>39</td>\n",
              "      <td>179137</td>\n",
              "      <td>9</td>\n",
              "      <td>1</td>\n",
              "      <td>1</td>\n",
              "      <td>0</td>\n",
              "      <td>0</td>\n",
              "      <td>0</td>\n",
              "      <td>40</td>\n",
              "      <td>38</td>\n",
              "      <td>50</td>\n",
              "      <td>0.000000</td>\n",
              "      <td>0.0</td>\n",
              "      <td>1</td>\n",
              "      <td>0</td>\n",
              "      <td>0</td>\n",
              "      <td>1</td>\n",
              "      <td>0</td>\n",
              "      <td>1</td>\n",
              "      <td>1</td>\n",
              "    </tr>\n",
              "    <tr>\n",
              "      <th>4</th>\n",
              "      <td>46</td>\n",
              "      <td>215943</td>\n",
              "      <td>9</td>\n",
              "      <td>4</td>\n",
              "      <td>1</td>\n",
              "      <td>0</td>\n",
              "      <td>0</td>\n",
              "      <td>0</td>\n",
              "      <td>40</td>\n",
              "      <td>38</td>\n",
              "      <td>50</td>\n",
              "      <td>0.000000</td>\n",
              "      <td>0.0</td>\n",
              "      <td>1</td>\n",
              "      <td>0</td>\n",
              "      <td>0</td>\n",
              "      <td>1</td>\n",
              "      <td>0</td>\n",
              "      <td>1</td>\n",
              "      <td>1</td>\n",
              "    </tr>\n",
              "  </tbody>\n",
              "</table>\n",
              "</div>\n",
              "    <div class=\"colab-df-buttons\">\n",
              "\n",
              "  <div class=\"colab-df-container\">\n",
              "    <button class=\"colab-df-convert\" onclick=\"convertToInteractive('df-e9948d50-f0d7-4431-ba50-641c5eaa047d')\"\n",
              "            title=\"Convert this dataframe to an interactive table.\"\n",
              "            style=\"display:none;\">\n",
              "\n",
              "  <svg xmlns=\"http://www.w3.org/2000/svg\" height=\"24px\" viewBox=\"0 -960 960 960\">\n",
              "    <path d=\"M120-120v-720h720v720H120Zm60-500h600v-160H180v160Zm220 220h160v-160H400v160Zm0 220h160v-160H400v160ZM180-400h160v-160H180v160Zm440 0h160v-160H620v160ZM180-180h160v-160H180v160Zm440 0h160v-160H620v160Z\"/>\n",
              "  </svg>\n",
              "    </button>\n",
              "\n",
              "  <style>\n",
              "    .colab-df-container {\n",
              "      display:flex;\n",
              "      gap: 12px;\n",
              "    }\n",
              "\n",
              "    .colab-df-convert {\n",
              "      background-color: #E8F0FE;\n",
              "      border: none;\n",
              "      border-radius: 50%;\n",
              "      cursor: pointer;\n",
              "      display: none;\n",
              "      fill: #1967D2;\n",
              "      height: 32px;\n",
              "      padding: 0 0 0 0;\n",
              "      width: 32px;\n",
              "    }\n",
              "\n",
              "    .colab-df-convert:hover {\n",
              "      background-color: #E2EBFA;\n",
              "      box-shadow: 0px 1px 2px rgba(60, 64, 67, 0.3), 0px 1px 3px 1px rgba(60, 64, 67, 0.15);\n",
              "      fill: #174EA6;\n",
              "    }\n",
              "\n",
              "    .colab-df-buttons div {\n",
              "      margin-bottom: 4px;\n",
              "    }\n",
              "\n",
              "    [theme=dark] .colab-df-convert {\n",
              "      background-color: #3B4455;\n",
              "      fill: #D2E3FC;\n",
              "    }\n",
              "\n",
              "    [theme=dark] .colab-df-convert:hover {\n",
              "      background-color: #434B5C;\n",
              "      box-shadow: 0px 1px 3px 1px rgba(0, 0, 0, 0.15);\n",
              "      filter: drop-shadow(0px 1px 2px rgba(0, 0, 0, 0.3));\n",
              "      fill: #FFFFFF;\n",
              "    }\n",
              "  </style>\n",
              "\n",
              "    <script>\n",
              "      const buttonEl =\n",
              "        document.querySelector('#df-e9948d50-f0d7-4431-ba50-641c5eaa047d button.colab-df-convert');\n",
              "      buttonEl.style.display =\n",
              "        google.colab.kernel.accessAllowed ? 'block' : 'none';\n",
              "\n",
              "      async function convertToInteractive(key) {\n",
              "        const element = document.querySelector('#df-e9948d50-f0d7-4431-ba50-641c5eaa047d');\n",
              "        const dataTable =\n",
              "          await google.colab.kernel.invokeFunction('convertToInteractive',\n",
              "                                                    [key], {});\n",
              "        if (!dataTable) return;\n",
              "\n",
              "        const docLinkHtml = 'Like what you see? Visit the ' +\n",
              "          '<a target=\"_blank\" href=https://colab.research.google.com/notebooks/data_table.ipynb>data table notebook</a>'\n",
              "          + ' to learn more about interactive tables.';\n",
              "        element.innerHTML = '';\n",
              "        dataTable['output_type'] = 'display_data';\n",
              "        await google.colab.output.renderOutput(dataTable, element);\n",
              "        const docLink = document.createElement('div');\n",
              "        docLink.innerHTML = docLinkHtml;\n",
              "        element.appendChild(docLink);\n",
              "      }\n",
              "    </script>\n",
              "  </div>\n",
              "\n",
              "\n",
              "<div id=\"df-797534bd-1ddf-441a-a646-7942dc886d6d\">\n",
              "  <button class=\"colab-df-quickchart\" onclick=\"quickchart('df-797534bd-1ddf-441a-a646-7942dc886d6d')\"\n",
              "            title=\"Suggest charts\"\n",
              "            style=\"display:none;\">\n",
              "\n",
              "<svg xmlns=\"http://www.w3.org/2000/svg\" height=\"24px\"viewBox=\"0 0 24 24\"\n",
              "     width=\"24px\">\n",
              "    <g>\n",
              "        <path d=\"M19 3H5c-1.1 0-2 .9-2 2v14c0 1.1.9 2 2 2h14c1.1 0 2-.9 2-2V5c0-1.1-.9-2-2-2zM9 17H7v-7h2v7zm4 0h-2V7h2v10zm4 0h-2v-4h2v4z\"/>\n",
              "    </g>\n",
              "</svg>\n",
              "  </button>\n",
              "\n",
              "<style>\n",
              "  .colab-df-quickchart {\n",
              "      --bg-color: #E8F0FE;\n",
              "      --fill-color: #1967D2;\n",
              "      --hover-bg-color: #E2EBFA;\n",
              "      --hover-fill-color: #174EA6;\n",
              "      --disabled-fill-color: #AAA;\n",
              "      --disabled-bg-color: #DDD;\n",
              "  }\n",
              "\n",
              "  [theme=dark] .colab-df-quickchart {\n",
              "      --bg-color: #3B4455;\n",
              "      --fill-color: #D2E3FC;\n",
              "      --hover-bg-color: #434B5C;\n",
              "      --hover-fill-color: #FFFFFF;\n",
              "      --disabled-bg-color: #3B4455;\n",
              "      --disabled-fill-color: #666;\n",
              "  }\n",
              "\n",
              "  .colab-df-quickchart {\n",
              "    background-color: var(--bg-color);\n",
              "    border: none;\n",
              "    border-radius: 50%;\n",
              "    cursor: pointer;\n",
              "    display: none;\n",
              "    fill: var(--fill-color);\n",
              "    height: 32px;\n",
              "    padding: 0;\n",
              "    width: 32px;\n",
              "  }\n",
              "\n",
              "  .colab-df-quickchart:hover {\n",
              "    background-color: var(--hover-bg-color);\n",
              "    box-shadow: 0 1px 2px rgba(60, 64, 67, 0.3), 0 1px 3px 1px rgba(60, 64, 67, 0.15);\n",
              "    fill: var(--button-hover-fill-color);\n",
              "  }\n",
              "\n",
              "  .colab-df-quickchart-complete:disabled,\n",
              "  .colab-df-quickchart-complete:disabled:hover {\n",
              "    background-color: var(--disabled-bg-color);\n",
              "    fill: var(--disabled-fill-color);\n",
              "    box-shadow: none;\n",
              "  }\n",
              "\n",
              "  .colab-df-spinner {\n",
              "    border: 2px solid var(--fill-color);\n",
              "    border-color: transparent;\n",
              "    border-bottom-color: var(--fill-color);\n",
              "    animation:\n",
              "      spin 1s steps(1) infinite;\n",
              "  }\n",
              "\n",
              "  @keyframes spin {\n",
              "    0% {\n",
              "      border-color: transparent;\n",
              "      border-bottom-color: var(--fill-color);\n",
              "      border-left-color: var(--fill-color);\n",
              "    }\n",
              "    20% {\n",
              "      border-color: transparent;\n",
              "      border-left-color: var(--fill-color);\n",
              "      border-top-color: var(--fill-color);\n",
              "    }\n",
              "    30% {\n",
              "      border-color: transparent;\n",
              "      border-left-color: var(--fill-color);\n",
              "      border-top-color: var(--fill-color);\n",
              "      border-right-color: var(--fill-color);\n",
              "    }\n",
              "    40% {\n",
              "      border-color: transparent;\n",
              "      border-right-color: var(--fill-color);\n",
              "      border-top-color: var(--fill-color);\n",
              "    }\n",
              "    60% {\n",
              "      border-color: transparent;\n",
              "      border-right-color: var(--fill-color);\n",
              "    }\n",
              "    80% {\n",
              "      border-color: transparent;\n",
              "      border-right-color: var(--fill-color);\n",
              "      border-bottom-color: var(--fill-color);\n",
              "    }\n",
              "    90% {\n",
              "      border-color: transparent;\n",
              "      border-bottom-color: var(--fill-color);\n",
              "    }\n",
              "  }\n",
              "</style>\n",
              "\n",
              "  <script>\n",
              "    async function quickchart(key) {\n",
              "      const quickchartButtonEl =\n",
              "        document.querySelector('#' + key + ' button');\n",
              "      quickchartButtonEl.disabled = true;  // To prevent multiple clicks.\n",
              "      quickchartButtonEl.classList.add('colab-df-spinner');\n",
              "      try {\n",
              "        const charts = await google.colab.kernel.invokeFunction(\n",
              "            'suggestCharts', [key], {});\n",
              "      } catch (error) {\n",
              "        console.error('Error during call to suggestCharts:', error);\n",
              "      }\n",
              "      quickchartButtonEl.classList.remove('colab-df-spinner');\n",
              "      quickchartButtonEl.classList.add('colab-df-quickchart-complete');\n",
              "    }\n",
              "    (() => {\n",
              "      let quickchartButtonEl =\n",
              "        document.querySelector('#df-797534bd-1ddf-441a-a646-7942dc886d6d button');\n",
              "      quickchartButtonEl.style.display =\n",
              "        google.colab.kernel.accessAllowed ? 'block' : 'none';\n",
              "    })();\n",
              "  </script>\n",
              "</div>\n",
              "\n",
              "    </div>\n",
              "  </div>\n"
            ]
          },
          "metadata": {},
          "execution_count": 90
        }
      ]
    },
    {
      "cell_type": "code",
      "source": [
        "train_feature_df = train_df[train_df.columns[:-1]].astype(float)\n",
        "train_features = tensor(train_feature_df.values, dtype=torch.float)\n",
        "train_labels = tensor(train_df.high_income, dtype=torch.int)\n",
        "\n",
        "max_value, _ = train_features.max(dim=0)\n",
        "train_features /= max_value"
      ],
      "metadata": {
        "id": "nY2Ssc0VjtzS"
      },
      "execution_count": null,
      "outputs": []
    },
    {
      "cell_type": "code",
      "source": [
        "test_feature_df = test_df[test_df.columns[:-1]].astype(float)\n",
        "test_features = tensor(test_feature_df.values, dtype=torch.float)\n",
        "test_labels = tensor(test_df.high_income, dtype=torch.int)\n",
        "\n",
        "max_value, _ = test_features.max(dim=0)\n",
        "test_features /= max_value"
      ],
      "metadata": {
        "id": "RcxMULKUjt2b"
      },
      "execution_count": null,
      "outputs": []
    },
    {
      "cell_type": "markdown",
      "source": [
        "# Linear Model to Neural Net"
      ],
      "metadata": {
        "id": "gHKMqZ0elUpb"
      }
    },
    {
      "cell_type": "code",
      "source": [
        "def init_weights():\n",
        "  torch.manual_seed(42)\n",
        "  n_params = train_features.shape[1]\n",
        "  weights = torch.rand(n_params, 1) # now it is a 1-D matrix\n",
        "  return weights.requires_grad_()"
      ],
      "metadata": {
        "id": "MVta9xtjjt5i"
      },
      "execution_count": null,
      "outputs": []
    },
    {
      "cell_type": "code",
      "source": [
        "x = tensor([1,2,3]) # example\n",
        "x"
      ],
      "metadata": {
        "colab": {
          "base_uri": "https://localhost:8080/"
        },
        "id": "eyCB3PdHjt8j",
        "outputId": "8142a337-02a0-4f2d-dd4b-75c065d17d31"
      },
      "execution_count": null,
      "outputs": [
        {
          "output_type": "execute_result",
          "data": {
            "text/plain": [
              "tensor([1, 2, 3])"
            ]
          },
          "metadata": {},
          "execution_count": 94
        }
      ]
    },
    {
      "cell_type": "code",
      "source": [
        "x[:,None]"
      ],
      "metadata": {
        "colab": {
          "base_uri": "https://localhost:8080/"
        },
        "id": "dhA1OQ-5jt_m",
        "outputId": "fda41a15-597d-4604-91cf-8130fcb7da57"
      },
      "execution_count": null,
      "outputs": [
        {
          "output_type": "execute_result",
          "data": {
            "text/plain": [
              "tensor([[1],\n",
              "        [2],\n",
              "        [3]])"
            ]
          },
          "metadata": {},
          "execution_count": 95
        }
      ]
    },
    {
      "cell_type": "code",
      "source": [
        "train_labels = train_labels[:, None]\n",
        "test_labels = test_labels[:, None]"
      ],
      "metadata": {
        "id": "x1QcBCEVjuCt"
      },
      "execution_count": null,
      "outputs": []
    },
    {
      "cell_type": "code",
      "source": [
        "train_labels.shape"
      ],
      "metadata": {
        "colab": {
          "base_uri": "https://localhost:8080/"
        },
        "id": "LLT56irBjuGF",
        "outputId": "48bda8ac-d426-4f5e-81c5-92e6ade6dd36"
      },
      "execution_count": null,
      "outputs": [
        {
          "output_type": "execute_result",
          "data": {
            "text/plain": [
              "torch.Size([38388, 1])"
            ]
          },
          "metadata": {},
          "execution_count": 97
        }
      ]
    },
    {
      "cell_type": "code",
      "source": [
        "def calculate_prediction(weights, features):\n",
        "  multi = features @ weights # @ also means matrix multiplication\n",
        "  preds = torch.sigmoid(multi)\n",
        "  return preds"
      ],
      "metadata": {
        "id": "LbA-seM_juJf"
      },
      "execution_count": null,
      "outputs": []
    },
    {
      "cell_type": "code",
      "source": [
        "def calculate_loss(preds, labels):\n",
        "  return torch.abs(preds-labels).mean()"
      ],
      "metadata": {
        "id": "iq121vsDjw-Z"
      },
      "execution_count": null,
      "outputs": []
    },
    {
      "cell_type": "code",
      "source": [
        "def update_weights(weights, lr):\n",
        "  weights.sub_(weights.grad * lr)\n",
        "  return"
      ],
      "metadata": {
        "id": "hHnM51U9mAbT"
      },
      "execution_count": null,
      "outputs": []
    },
    {
      "cell_type": "code",
      "source": [
        "def one_epoch(epoch_no, weights, lr):\n",
        "  preds = calculate_prediction(weights, train_features)\n",
        "  loss = calculate_loss(preds, train_labels)\n",
        "  loss.backward()\n",
        "  with torch.no_grad(): update_weights(weights, lr)\n",
        "  print(f\"Epoch {epoch_no+1} => Loss: {loss}\")"
      ],
      "metadata": {
        "id": "SkDbsxHdmAXt"
      },
      "execution_count": null,
      "outputs": []
    },
    {
      "cell_type": "code",
      "source": [
        "def train_model(epochs, lr):\n",
        "  weights = init_weights()\n",
        "  for epoch_no in range(epochs):\n",
        "    one_epoch(epoch_no, weights, lr)\n",
        "  return weights"
      ],
      "metadata": {
        "id": "qFrprW_LmAU-"
      },
      "execution_count": null,
      "outputs": []
    },
    {
      "cell_type": "code",
      "source": [
        "weights = train_model(epochs=15, lr=2)"
      ],
      "metadata": {
        "colab": {
          "base_uri": "https://localhost:8080/"
        },
        "id": "ufFaQX7nmAR8",
        "outputId": "b91738ee-63c5-4f8a-b930-4750b3e69b96"
      },
      "execution_count": null,
      "outputs": [
        {
          "output_type": "stream",
          "name": "stdout",
          "text": [
            "Epoch 1 => Loss: 0.24599476158618927\n",
            "Epoch 2 => Loss: 0.24555248022079468\n",
            "Epoch 3 => Loss: 0.2447742372751236\n",
            "Epoch 4 => Loss: 0.24382245540618896\n",
            "Epoch 5 => Loss: 0.24285228550434113\n",
            "Epoch 6 => Loss: 0.2419712096452713\n",
            "Epoch 7 => Loss: 0.24123184382915497\n",
            "Epoch 8 => Loss: 0.2406444549560547\n",
            "Epoch 9 => Loss: 0.24019527435302734\n",
            "Epoch 10 => Loss: 0.23986051976680756\n",
            "Epoch 11 => Loss: 0.239615336060524\n",
            "Epoch 12 => Loss: 0.2394377738237381\n",
            "Epoch 13 => Loss: 0.23930998146533966\n",
            "Epoch 14 => Loss: 0.2392183542251587\n",
            "Epoch 15 => Loss: 0.239152729511261\n"
          ]
        }
      ]
    },
    {
      "cell_type": "code",
      "source": [
        "def accuracy(weights, features):\n",
        "  preds = calculate_prediction(weights, features)\n",
        "  results = test_labels == (preds > 0.5).int()\n",
        "  return results.float().mean()"
      ],
      "metadata": {
        "id": "gREOn3cKmAO2"
      },
      "execution_count": null,
      "outputs": []
    },
    {
      "cell_type": "code",
      "source": [
        "accuracy(weights, test_features)"
      ],
      "metadata": {
        "colab": {
          "base_uri": "https://localhost:8080/"
        },
        "id": "bTkE8R6RmALl",
        "outputId": "1cd5ee2d-97e4-48de-c411-b3d5a577fdd5"
      },
      "execution_count": null,
      "outputs": [
        {
          "output_type": "execute_result",
          "data": {
            "text/plain": [
              "tensor(0.7611)"
            ]
          },
          "metadata": {},
          "execution_count": 105
        }
      ]
    },
    {
      "cell_type": "markdown",
      "source": [
        "# Shallow Neural Network"
      ],
      "metadata": {
        "id": "Ia13ANDYmbao"
      }
    },
    {
      "cell_type": "code",
      "source": [
        "torch.manual_seed(42)\n",
        "\n",
        "def init_weights(n_hidden=10):\n",
        "  n_params = train_features.shape[1]\n",
        "  hidden_layer = torch.rand(n_params, n_hidden)\n",
        "  head_layer = torch.rand(n_hidden, 1)\n",
        "  bias = torch.rand(1)[0]\n",
        "  return hidden_layer.requires_grad_(), head_layer.requires_grad_(), bias.requires_grad_()"
      ],
      "metadata": {
        "id": "4rQdx-BlmAIM"
      },
      "execution_count": null,
      "outputs": []
    },
    {
      "cell_type": "code",
      "source": [
        "def calculate_prediction(weights, features):\n",
        "    hidden_layer, head_layer, bias = weights\n",
        "    hidden_layer_out = torch.sigmoid(features @ hidden_layer)\n",
        "    head_layer_out = hidden_layer_out @ head_layer + bias\n",
        "    return torch.sigmoid(head_layer_out)"
      ],
      "metadata": {
        "id": "pAwzP5Z6mAEz"
      },
      "execution_count": null,
      "outputs": []
    },
    {
      "cell_type": "code",
      "source": [
        "def update_weights(weights, lr):\n",
        "  for layer in weights:\n",
        "    layer.sub_(layer.grad * lr)\n",
        "  return"
      ],
      "metadata": {
        "id": "OtmlAq1rmABj"
      },
      "execution_count": null,
      "outputs": []
    },
    {
      "cell_type": "code",
      "source": [
        "weights = train_model(epochs=15, lr=2)"
      ],
      "metadata": {
        "colab": {
          "base_uri": "https://localhost:8080/"
        },
        "id": "k-iUBJ9Kl_-o",
        "outputId": "712c6b42-9e77-46f1-e3ea-6a64aa53b223"
      },
      "execution_count": null,
      "outputs": [
        {
          "output_type": "stream",
          "name": "stdout",
          "text": [
            "Epoch 1 => Loss: 0.24125881493091583\n",
            "Epoch 2 => Loss: 0.241155207157135\n",
            "Epoch 3 => Loss: 0.24096600711345673\n",
            "Epoch 4 => Loss: 0.24072103202342987\n",
            "Epoch 5 => Loss: 0.24045276641845703\n",
            "Epoch 6 => Loss: 0.24018868803977966\n",
            "Epoch 7 => Loss: 0.2399476021528244\n",
            "Epoch 8 => Loss: 0.239739328622818\n",
            "Epoch 9 => Loss: 0.2395666241645813\n",
            "Epoch 10 => Loss: 0.23942774534225464\n",
            "Epoch 11 => Loss: 0.23931866884231567\n",
            "Epoch 12 => Loss: 0.23923443257808685\n",
            "Epoch 13 => Loss: 0.23917017877101898\n",
            "Epoch 14 => Loss: 0.23912166059017181\n",
            "Epoch 15 => Loss: 0.23908522725105286\n"
          ]
        }
      ]
    },
    {
      "cell_type": "code",
      "source": [
        "torch.save(weights, \"shallow_nnet_weights.pt\")"
      ],
      "metadata": {
        "id": "g6K8w0s8l_7f"
      },
      "execution_count": null,
      "outputs": []
    },
    {
      "cell_type": "code",
      "source": [
        "accuracy(weights, test_features)"
      ],
      "metadata": {
        "colab": {
          "base_uri": "https://localhost:8080/"
        },
        "id": "EJey301el_4V",
        "outputId": "6112c7b9-0427-44c5-f035-c88414df2804"
      },
      "execution_count": null,
      "outputs": [
        {
          "output_type": "execute_result",
          "data": {
            "text/plain": [
              "tensor(0.7611)"
            ]
          },
          "metadata": {},
          "execution_count": 111
        }
      ]
    },
    {
      "cell_type": "code",
      "source": [],
      "metadata": {
        "id": "MQIVRxS8jxBx"
      },
      "execution_count": null,
      "outputs": []
    }
  ]
}