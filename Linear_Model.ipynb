{
  "nbformat": 4,
  "nbformat_minor": 0,
  "metadata": {
    "colab": {
      "provenance": []
    },
    "kernelspec": {
      "name": "python3",
      "display_name": "Python 3"
    },
    "language_info": {
      "name": "python"
    }
  },
  "cells": [
    {
      "cell_type": "code",
      "execution_count": 1,
      "metadata": {
        "colab": {
          "base_uri": "https://localhost:8080/"
        },
        "id": "VkEECdRFPfmi",
        "outputId": "246502e0-5247-4992-8a53-b1ed7cc412ec"
      },
      "outputs": [
        {
          "output_type": "stream",
          "name": "stdout",
          "text": [
            "Mounted at /content/drive\n"
          ]
        }
      ],
      "source": [
        "# prompt: mount google drive\n",
        "\n",
        "from google.colab import drive\n",
        "drive.mount('/content/drive', force_remount=True)\n"
      ]
    },
    {
      "cell_type": "code",
      "source": [
        "import torch\n",
        "import numpy as np\n",
        "import pandas as pd\n",
        "from torch import tensor\n"
      ],
      "metadata": {
        "id": "XhgypoQ5P513"
      },
      "execution_count": 2,
      "outputs": []
    },
    {
      "cell_type": "code",
      "source": [
        "train_df=pd.read_csv(\"/content/drive/MyDrive/Dataset/adult_train.csv\")\n",
        "test_df=pd.read_csv(\"/content/drive/MyDrive/Dataset/adult_test.csv\")"
      ],
      "metadata": {
        "id": "ya7KxJTZPiTQ"
      },
      "execution_count": 3,
      "outputs": []
    },
    {
      "cell_type": "code",
      "source": [
        "train_df.head()"
      ],
      "metadata": {
        "colab": {
          "base_uri": "https://localhost:8080/",
          "height": 260
        },
        "id": "S-7iNPZnPiVz",
        "outputId": "7490f4ca-5ff8-4066-b94a-d3095ce008f4"
      },
      "execution_count": 4,
      "outputs": [
        {
          "output_type": "execute_result",
          "data": {
            "text/plain": [
              "   age  fnlwgt  educational-num  relationship  race  gender  capital-gain  \\\n",
              "0   81   36147               15             0     1       1         10605   \n",
              "1   46  525848                7             0     1       1             0   \n",
              "2   39   77516               13             1     1       1          2174   \n",
              "3   39  179137                9             1     1       0             0   \n",
              "4   46  215943                9             4     1       0             0   \n",
              "\n",
              "   capital-loss  hours-per-week  native-country  income  log_capital_gain  \\\n",
              "0             0               2              38      50          9.269175   \n",
              "1             0              48              38      50          0.000000   \n",
              "2             0              40              38      50          7.684784   \n",
              "3             0              40              38      50          0.000000   \n",
              "4             0              40              38      50          0.000000   \n",
              "\n",
              "   log_capital_loss  Private_Workclass  education_label  marital_label  \\\n",
              "0               0.0                  1                0              1   \n",
              "1               0.0                  0                0              1   \n",
              "2               0.0                  0                1              0   \n",
              "3               0.0                  1                0              0   \n",
              "4               0.0                  1                0              0   \n",
              "\n",
              "   white_collar_label  gender_male  native_country_label  high_income  \n",
              "0                   0            1                     1            0  \n",
              "1                   0            1                     1            1  \n",
              "2                   1            1                     1            1  \n",
              "3                   1            0                     1            1  \n",
              "4                   1            0                     1            1  "
            ],
            "text/html": [
              "\n",
              "  <div id=\"df-3f485486-e10a-4364-8709-5c988c769a39\" class=\"colab-df-container\">\n",
              "    <div>\n",
              "<style scoped>\n",
              "    .dataframe tbody tr th:only-of-type {\n",
              "        vertical-align: middle;\n",
              "    }\n",
              "\n",
              "    .dataframe tbody tr th {\n",
              "        vertical-align: top;\n",
              "    }\n",
              "\n",
              "    .dataframe thead th {\n",
              "        text-align: right;\n",
              "    }\n",
              "</style>\n",
              "<table border=\"1\" class=\"dataframe\">\n",
              "  <thead>\n",
              "    <tr style=\"text-align: right;\">\n",
              "      <th></th>\n",
              "      <th>age</th>\n",
              "      <th>fnlwgt</th>\n",
              "      <th>educational-num</th>\n",
              "      <th>relationship</th>\n",
              "      <th>race</th>\n",
              "      <th>gender</th>\n",
              "      <th>capital-gain</th>\n",
              "      <th>capital-loss</th>\n",
              "      <th>hours-per-week</th>\n",
              "      <th>native-country</th>\n",
              "      <th>income</th>\n",
              "      <th>log_capital_gain</th>\n",
              "      <th>log_capital_loss</th>\n",
              "      <th>Private_Workclass</th>\n",
              "      <th>education_label</th>\n",
              "      <th>marital_label</th>\n",
              "      <th>white_collar_label</th>\n",
              "      <th>gender_male</th>\n",
              "      <th>native_country_label</th>\n",
              "      <th>high_income</th>\n",
              "    </tr>\n",
              "  </thead>\n",
              "  <tbody>\n",
              "    <tr>\n",
              "      <th>0</th>\n",
              "      <td>81</td>\n",
              "      <td>36147</td>\n",
              "      <td>15</td>\n",
              "      <td>0</td>\n",
              "      <td>1</td>\n",
              "      <td>1</td>\n",
              "      <td>10605</td>\n",
              "      <td>0</td>\n",
              "      <td>2</td>\n",
              "      <td>38</td>\n",
              "      <td>50</td>\n",
              "      <td>9.269175</td>\n",
              "      <td>0.0</td>\n",
              "      <td>1</td>\n",
              "      <td>0</td>\n",
              "      <td>1</td>\n",
              "      <td>0</td>\n",
              "      <td>1</td>\n",
              "      <td>1</td>\n",
              "      <td>0</td>\n",
              "    </tr>\n",
              "    <tr>\n",
              "      <th>1</th>\n",
              "      <td>46</td>\n",
              "      <td>525848</td>\n",
              "      <td>7</td>\n",
              "      <td>0</td>\n",
              "      <td>1</td>\n",
              "      <td>1</td>\n",
              "      <td>0</td>\n",
              "      <td>0</td>\n",
              "      <td>48</td>\n",
              "      <td>38</td>\n",
              "      <td>50</td>\n",
              "      <td>0.000000</td>\n",
              "      <td>0.0</td>\n",
              "      <td>0</td>\n",
              "      <td>0</td>\n",
              "      <td>1</td>\n",
              "      <td>0</td>\n",
              "      <td>1</td>\n",
              "      <td>1</td>\n",
              "      <td>1</td>\n",
              "    </tr>\n",
              "    <tr>\n",
              "      <th>2</th>\n",
              "      <td>39</td>\n",
              "      <td>77516</td>\n",
              "      <td>13</td>\n",
              "      <td>1</td>\n",
              "      <td>1</td>\n",
              "      <td>1</td>\n",
              "      <td>2174</td>\n",
              "      <td>0</td>\n",
              "      <td>40</td>\n",
              "      <td>38</td>\n",
              "      <td>50</td>\n",
              "      <td>7.684784</td>\n",
              "      <td>0.0</td>\n",
              "      <td>0</td>\n",
              "      <td>1</td>\n",
              "      <td>0</td>\n",
              "      <td>1</td>\n",
              "      <td>1</td>\n",
              "      <td>1</td>\n",
              "      <td>1</td>\n",
              "    </tr>\n",
              "    <tr>\n",
              "      <th>3</th>\n",
              "      <td>39</td>\n",
              "      <td>179137</td>\n",
              "      <td>9</td>\n",
              "      <td>1</td>\n",
              "      <td>1</td>\n",
              "      <td>0</td>\n",
              "      <td>0</td>\n",
              "      <td>0</td>\n",
              "      <td>40</td>\n",
              "      <td>38</td>\n",
              "      <td>50</td>\n",
              "      <td>0.000000</td>\n",
              "      <td>0.0</td>\n",
              "      <td>1</td>\n",
              "      <td>0</td>\n",
              "      <td>0</td>\n",
              "      <td>1</td>\n",
              "      <td>0</td>\n",
              "      <td>1</td>\n",
              "      <td>1</td>\n",
              "    </tr>\n",
              "    <tr>\n",
              "      <th>4</th>\n",
              "      <td>46</td>\n",
              "      <td>215943</td>\n",
              "      <td>9</td>\n",
              "      <td>4</td>\n",
              "      <td>1</td>\n",
              "      <td>0</td>\n",
              "      <td>0</td>\n",
              "      <td>0</td>\n",
              "      <td>40</td>\n",
              "      <td>38</td>\n",
              "      <td>50</td>\n",
              "      <td>0.000000</td>\n",
              "      <td>0.0</td>\n",
              "      <td>1</td>\n",
              "      <td>0</td>\n",
              "      <td>0</td>\n",
              "      <td>1</td>\n",
              "      <td>0</td>\n",
              "      <td>1</td>\n",
              "      <td>1</td>\n",
              "    </tr>\n",
              "  </tbody>\n",
              "</table>\n",
              "</div>\n",
              "    <div class=\"colab-df-buttons\">\n",
              "\n",
              "  <div class=\"colab-df-container\">\n",
              "    <button class=\"colab-df-convert\" onclick=\"convertToInteractive('df-3f485486-e10a-4364-8709-5c988c769a39')\"\n",
              "            title=\"Convert this dataframe to an interactive table.\"\n",
              "            style=\"display:none;\">\n",
              "\n",
              "  <svg xmlns=\"http://www.w3.org/2000/svg\" height=\"24px\" viewBox=\"0 -960 960 960\">\n",
              "    <path d=\"M120-120v-720h720v720H120Zm60-500h600v-160H180v160Zm220 220h160v-160H400v160Zm0 220h160v-160H400v160ZM180-400h160v-160H180v160Zm440 0h160v-160H620v160ZM180-180h160v-160H180v160Zm440 0h160v-160H620v160Z\"/>\n",
              "  </svg>\n",
              "    </button>\n",
              "\n",
              "  <style>\n",
              "    .colab-df-container {\n",
              "      display:flex;\n",
              "      gap: 12px;\n",
              "    }\n",
              "\n",
              "    .colab-df-convert {\n",
              "      background-color: #E8F0FE;\n",
              "      border: none;\n",
              "      border-radius: 50%;\n",
              "      cursor: pointer;\n",
              "      display: none;\n",
              "      fill: #1967D2;\n",
              "      height: 32px;\n",
              "      padding: 0 0 0 0;\n",
              "      width: 32px;\n",
              "    }\n",
              "\n",
              "    .colab-df-convert:hover {\n",
              "      background-color: #E2EBFA;\n",
              "      box-shadow: 0px 1px 2px rgba(60, 64, 67, 0.3), 0px 1px 3px 1px rgba(60, 64, 67, 0.15);\n",
              "      fill: #174EA6;\n",
              "    }\n",
              "\n",
              "    .colab-df-buttons div {\n",
              "      margin-bottom: 4px;\n",
              "    }\n",
              "\n",
              "    [theme=dark] .colab-df-convert {\n",
              "      background-color: #3B4455;\n",
              "      fill: #D2E3FC;\n",
              "    }\n",
              "\n",
              "    [theme=dark] .colab-df-convert:hover {\n",
              "      background-color: #434B5C;\n",
              "      box-shadow: 0px 1px 3px 1px rgba(0, 0, 0, 0.15);\n",
              "      filter: drop-shadow(0px 1px 2px rgba(0, 0, 0, 0.3));\n",
              "      fill: #FFFFFF;\n",
              "    }\n",
              "  </style>\n",
              "\n",
              "    <script>\n",
              "      const buttonEl =\n",
              "        document.querySelector('#df-3f485486-e10a-4364-8709-5c988c769a39 button.colab-df-convert');\n",
              "      buttonEl.style.display =\n",
              "        google.colab.kernel.accessAllowed ? 'block' : 'none';\n",
              "\n",
              "      async function convertToInteractive(key) {\n",
              "        const element = document.querySelector('#df-3f485486-e10a-4364-8709-5c988c769a39');\n",
              "        const dataTable =\n",
              "          await google.colab.kernel.invokeFunction('convertToInteractive',\n",
              "                                                    [key], {});\n",
              "        if (!dataTable) return;\n",
              "\n",
              "        const docLinkHtml = 'Like what you see? Visit the ' +\n",
              "          '<a target=\"_blank\" href=https://colab.research.google.com/notebooks/data_table.ipynb>data table notebook</a>'\n",
              "          + ' to learn more about interactive tables.';\n",
              "        element.innerHTML = '';\n",
              "        dataTable['output_type'] = 'display_data';\n",
              "        await google.colab.output.renderOutput(dataTable, element);\n",
              "        const docLink = document.createElement('div');\n",
              "        docLink.innerHTML = docLinkHtml;\n",
              "        element.appendChild(docLink);\n",
              "      }\n",
              "    </script>\n",
              "  </div>\n",
              "\n",
              "\n",
              "<div id=\"df-3c36afd6-4b69-466f-a251-3a188b77c569\">\n",
              "  <button class=\"colab-df-quickchart\" onclick=\"quickchart('df-3c36afd6-4b69-466f-a251-3a188b77c569')\"\n",
              "            title=\"Suggest charts\"\n",
              "            style=\"display:none;\">\n",
              "\n",
              "<svg xmlns=\"http://www.w3.org/2000/svg\" height=\"24px\"viewBox=\"0 0 24 24\"\n",
              "     width=\"24px\">\n",
              "    <g>\n",
              "        <path d=\"M19 3H5c-1.1 0-2 .9-2 2v14c0 1.1.9 2 2 2h14c1.1 0 2-.9 2-2V5c0-1.1-.9-2-2-2zM9 17H7v-7h2v7zm4 0h-2V7h2v10zm4 0h-2v-4h2v4z\"/>\n",
              "    </g>\n",
              "</svg>\n",
              "  </button>\n",
              "\n",
              "<style>\n",
              "  .colab-df-quickchart {\n",
              "      --bg-color: #E8F0FE;\n",
              "      --fill-color: #1967D2;\n",
              "      --hover-bg-color: #E2EBFA;\n",
              "      --hover-fill-color: #174EA6;\n",
              "      --disabled-fill-color: #AAA;\n",
              "      --disabled-bg-color: #DDD;\n",
              "  }\n",
              "\n",
              "  [theme=dark] .colab-df-quickchart {\n",
              "      --bg-color: #3B4455;\n",
              "      --fill-color: #D2E3FC;\n",
              "      --hover-bg-color: #434B5C;\n",
              "      --hover-fill-color: #FFFFFF;\n",
              "      --disabled-bg-color: #3B4455;\n",
              "      --disabled-fill-color: #666;\n",
              "  }\n",
              "\n",
              "  .colab-df-quickchart {\n",
              "    background-color: var(--bg-color);\n",
              "    border: none;\n",
              "    border-radius: 50%;\n",
              "    cursor: pointer;\n",
              "    display: none;\n",
              "    fill: var(--fill-color);\n",
              "    height: 32px;\n",
              "    padding: 0;\n",
              "    width: 32px;\n",
              "  }\n",
              "\n",
              "  .colab-df-quickchart:hover {\n",
              "    background-color: var(--hover-bg-color);\n",
              "    box-shadow: 0 1px 2px rgba(60, 64, 67, 0.3), 0 1px 3px 1px rgba(60, 64, 67, 0.15);\n",
              "    fill: var(--button-hover-fill-color);\n",
              "  }\n",
              "\n",
              "  .colab-df-quickchart-complete:disabled,\n",
              "  .colab-df-quickchart-complete:disabled:hover {\n",
              "    background-color: var(--disabled-bg-color);\n",
              "    fill: var(--disabled-fill-color);\n",
              "    box-shadow: none;\n",
              "  }\n",
              "\n",
              "  .colab-df-spinner {\n",
              "    border: 2px solid var(--fill-color);\n",
              "    border-color: transparent;\n",
              "    border-bottom-color: var(--fill-color);\n",
              "    animation:\n",
              "      spin 1s steps(1) infinite;\n",
              "  }\n",
              "\n",
              "  @keyframes spin {\n",
              "    0% {\n",
              "      border-color: transparent;\n",
              "      border-bottom-color: var(--fill-color);\n",
              "      border-left-color: var(--fill-color);\n",
              "    }\n",
              "    20% {\n",
              "      border-color: transparent;\n",
              "      border-left-color: var(--fill-color);\n",
              "      border-top-color: var(--fill-color);\n",
              "    }\n",
              "    30% {\n",
              "      border-color: transparent;\n",
              "      border-left-color: var(--fill-color);\n",
              "      border-top-color: var(--fill-color);\n",
              "      border-right-color: var(--fill-color);\n",
              "    }\n",
              "    40% {\n",
              "      border-color: transparent;\n",
              "      border-right-color: var(--fill-color);\n",
              "      border-top-color: var(--fill-color);\n",
              "    }\n",
              "    60% {\n",
              "      border-color: transparent;\n",
              "      border-right-color: var(--fill-color);\n",
              "    }\n",
              "    80% {\n",
              "      border-color: transparent;\n",
              "      border-right-color: var(--fill-color);\n",
              "      border-bottom-color: var(--fill-color);\n",
              "    }\n",
              "    90% {\n",
              "      border-color: transparent;\n",
              "      border-bottom-color: var(--fill-color);\n",
              "    }\n",
              "  }\n",
              "</style>\n",
              "\n",
              "  <script>\n",
              "    async function quickchart(key) {\n",
              "      const quickchartButtonEl =\n",
              "        document.querySelector('#' + key + ' button');\n",
              "      quickchartButtonEl.disabled = true;  // To prevent multiple clicks.\n",
              "      quickchartButtonEl.classList.add('colab-df-spinner');\n",
              "      try {\n",
              "        const charts = await google.colab.kernel.invokeFunction(\n",
              "            'suggestCharts', [key], {});\n",
              "      } catch (error) {\n",
              "        console.error('Error during call to suggestCharts:', error);\n",
              "      }\n",
              "      quickchartButtonEl.classList.remove('colab-df-spinner');\n",
              "      quickchartButtonEl.classList.add('colab-df-quickchart-complete');\n",
              "    }\n",
              "    (() => {\n",
              "      let quickchartButtonEl =\n",
              "        document.querySelector('#df-3c36afd6-4b69-466f-a251-3a188b77c569 button');\n",
              "      quickchartButtonEl.style.display =\n",
              "        google.colab.kernel.accessAllowed ? 'block' : 'none';\n",
              "    })();\n",
              "  </script>\n",
              "</div>\n",
              "\n",
              "    </div>\n",
              "  </div>\n"
            ]
          },
          "metadata": {},
          "execution_count": 4
        }
      ]
    },
    {
      "cell_type": "code",
      "source": [
        "train_df.shape"
      ],
      "metadata": {
        "colab": {
          "base_uri": "https://localhost:8080/"
        },
        "id": "drJhvf-MPiY3",
        "outputId": "9baa7b88-416f-4d3b-bbea-5e22ea55712b"
      },
      "execution_count": 5,
      "outputs": [
        {
          "output_type": "execute_result",
          "data": {
            "text/plain": [
              "(38388, 20)"
            ]
          },
          "metadata": {},
          "execution_count": 5
        }
      ]
    },
    {
      "cell_type": "code",
      "source": [
        "test_df.shape"
      ],
      "metadata": {
        "colab": {
          "base_uri": "https://localhost:8080/"
        },
        "id": "nuh7Mg1-PicE",
        "outputId": "056717a6-7fca-4533-e2db-6527fcef6b03"
      },
      "execution_count": 6,
      "outputs": [
        {
          "output_type": "execute_result",
          "data": {
            "text/plain": [
              "(9597, 20)"
            ]
          },
          "metadata": {},
          "execution_count": 6
        }
      ]
    },
    {
      "cell_type": "code",
      "source": [
        "label_data=tensor(train_df.high_income,dtype=torch.int)\n",
        "label_data"
      ],
      "metadata": {
        "colab": {
          "base_uri": "https://localhost:8080/"
        },
        "id": "OytKxkIwPifJ",
        "outputId": "977b3037-60f4-4898-a95c-dc599d99135f"
      },
      "execution_count": 7,
      "outputs": [
        {
          "output_type": "execute_result",
          "data": {
            "text/plain": [
              "tensor([0, 1, 1,  ..., 1, 0, 1], dtype=torch.int32)"
            ]
          },
          "metadata": {},
          "execution_count": 7
        }
      ]
    },
    {
      "cell_type": "code",
      "source": [
        "feature=train_df[train_df.columns[: -1]].astype(float)\n",
        "feature_data=tensor(feature.values,dtype=torch.float)\n",
        "feature_data"
      ],
      "metadata": {
        "colab": {
          "base_uri": "https://localhost:8080/"
        },
        "id": "abPwECzLPiiU",
        "outputId": "c33329a1-d901-4b18-befa-5a43d15491c3"
      },
      "execution_count": 8,
      "outputs": [
        {
          "output_type": "execute_result",
          "data": {
            "text/plain": [
              "tensor([[8.1000e+01, 3.6147e+04, 1.5000e+01,  ..., 0.0000e+00, 1.0000e+00,\n",
              "         1.0000e+00],\n",
              "        [4.6000e+01, 5.2585e+05, 7.0000e+00,  ..., 0.0000e+00, 1.0000e+00,\n",
              "         1.0000e+00],\n",
              "        [3.9000e+01, 7.7516e+04, 1.3000e+01,  ..., 1.0000e+00, 1.0000e+00,\n",
              "         1.0000e+00],\n",
              "        ...,\n",
              "        [3.0000e+01, 2.8946e+05, 1.3000e+01,  ..., 1.0000e+00, 0.0000e+00,\n",
              "         1.0000e+00],\n",
              "        [3.9000e+01, 3.0163e+05, 1.0000e+01,  ..., 1.0000e+00, 0.0000e+00,\n",
              "         1.0000e+00],\n",
              "        [2.2000e+01, 2.4477e+05, 7.0000e+00,  ..., 0.0000e+00, 0.0000e+00,\n",
              "         1.0000e+00]])"
            ]
          },
          "metadata": {},
          "execution_count": 8
        }
      ]
    },
    {
      "cell_type": "markdown",
      "source": [
        "# One Step of Linear Model\n",
        "\n",
        "\n",
        "```\n",
        "Initialize weights randomly and normalize data\n",
        "Calculate Prediction (weights * features) {  h(x)=W∗x  }\n",
        "Calculate Loss\n",
        "Backpropagation\n",
        "Gradient Step  W=W−lr∗grad\n",
        "```"
      ],
      "metadata": {
        "id": "sC-i4Y8PS0nw"
      }
    },
    {
      "cell_type": "code",
      "source": [
        "feature_data.shape"
      ],
      "metadata": {
        "colab": {
          "base_uri": "https://localhost:8080/"
        },
        "id": "pfalxbg3TScT",
        "outputId": "c6c34d84-8ab6-4a80-95ed-ca67c880c2a8"
      },
      "execution_count": 9,
      "outputs": [
        {
          "output_type": "execute_result",
          "data": {
            "text/plain": [
              "torch.Size([38388, 19])"
            ]
          },
          "metadata": {},
          "execution_count": 9
        }
      ]
    },
    {
      "cell_type": "code",
      "source": [
        "label_data.shape"
      ],
      "metadata": {
        "colab": {
          "base_uri": "https://localhost:8080/"
        },
        "id": "ezZiFwiITWEo",
        "outputId": "0409ac6f-3ae5-4cbc-abe9-efa1f0e386e9"
      },
      "execution_count": 10,
      "outputs": [
        {
          "output_type": "execute_result",
          "data": {
            "text/plain": [
              "torch.Size([38388])"
            ]
          },
          "metadata": {},
          "execution_count": 10
        }
      ]
    },
    {
      "cell_type": "markdown",
      "source": [
        "# Initialize weights randomly"
      ],
      "metadata": {
        "id": "0-ZV6BNwTH1J"
      }
    },
    {
      "cell_type": "code",
      "source": [
        "torch.manual_seed(42)\n",
        "n_params = feature_data.shape[1]\n",
        "weights = torch.rand(n_params)\n",
        "weights"
      ],
      "metadata": {
        "colab": {
          "base_uri": "https://localhost:8080/"
        },
        "id": "hFnVJcjhPil7",
        "outputId": "22a28145-a370-4890-e10b-8aeb79e9bc7f"
      },
      "execution_count": 11,
      "outputs": [
        {
          "output_type": "execute_result",
          "data": {
            "text/plain": [
              "tensor([0.8823, 0.9150, 0.3829, 0.9593, 0.3904, 0.6009, 0.2566, 0.7936, 0.9408,\n",
              "        0.1332, 0.9346, 0.5936, 0.8694, 0.5677, 0.7411, 0.4294, 0.8854, 0.5739,\n",
              "        0.2666])"
            ]
          },
          "metadata": {},
          "execution_count": 11
        }
      ]
    },
    {
      "cell_type": "code",
      "source": [
        "weights.shape"
      ],
      "metadata": {
        "colab": {
          "base_uri": "https://localhost:8080/"
        },
        "id": "kQ6PKdc7Pio-",
        "outputId": "fbb980fc-eb84-42f0-e72c-d20f37c137c4"
      },
      "execution_count": 12,
      "outputs": [
        {
          "output_type": "execute_result",
          "data": {
            "text/plain": [
              "torch.Size([19])"
            ]
          },
          "metadata": {},
          "execution_count": 12
        }
      ]
    },
    {
      "cell_type": "markdown",
      "source": [
        "# Normalization"
      ],
      "metadata": {
        "id": "TgAZgGrCTzI8"
      }
    },
    {
      "cell_type": "code",
      "source": [
        "max_value, _ = feature_data.max(dim=0)\n",
        "feature_data /= max_value\n",
        "feature_data"
      ],
      "metadata": {
        "colab": {
          "base_uri": "https://localhost:8080/"
        },
        "id": "Hf7Gvz64Tv6K",
        "outputId": "2c310837-ddfc-4a46-a600-dbddb3026df7"
      },
      "execution_count": 13,
      "outputs": [
        {
          "output_type": "execute_result",
          "data": {
            "text/plain": [
              "tensor([[0.9000, 0.0243, 0.9375,  ..., 0.0000, 1.0000, 1.0000],\n",
              "        [0.5111, 0.3528, 0.4375,  ..., 0.0000, 1.0000, 1.0000],\n",
              "        [0.4333, 0.0520, 0.8125,  ..., 1.0000, 1.0000, 1.0000],\n",
              "        ...,\n",
              "        [0.3333, 0.1942, 0.8125,  ..., 1.0000, 0.0000, 1.0000],\n",
              "        [0.4333, 0.2024, 0.6250,  ..., 1.0000, 0.0000, 1.0000],\n",
              "        [0.2444, 0.1642, 0.4375,  ..., 0.0000, 0.0000, 1.0000]])"
            ]
          },
          "metadata": {},
          "execution_count": 13
        }
      ]
    },
    {
      "cell_type": "markdown",
      "source": [
        "# Calculate Prediction"
      ],
      "metadata": {
        "id": "FokVrgwLVRUA"
      }
    },
    {
      "cell_type": "code",
      "source": [
        "def calculate_preds(weights, feature_data):\n",
        "  mults = (feature_data * weights)\n",
        "  preds = mults.sum(axis=1)\n",
        "  return preds"
      ],
      "metadata": {
        "id": "ufxzaioBTv2x"
      },
      "execution_count": 14,
      "outputs": []
    },
    {
      "cell_type": "code",
      "source": [
        "preds = calculate_preds(weights, feature_data)\n",
        "preds[:5]"
      ],
      "metadata": {
        "colab": {
          "base_uri": "https://localhost:8080/"
        },
        "id": "EDoxCjOiTvz1",
        "outputId": "2ff560ba-5ee4-4df8-abc5-80b36989e8ff"
      },
      "execution_count": 15,
      "outputs": [
        {
          "output_type": "execute_result",
          "data": {
            "text/plain": [
              "tensor([5.5894, 4.7198, 6.2342, 4.4509, 5.1177])"
            ]
          },
          "metadata": {},
          "execution_count": 15
        }
      ]
    },
    {
      "cell_type": "markdown",
      "source": [
        "# Calculate Loss"
      ],
      "metadata": {
        "id": "5SvBw4TwVfiB"
      }
    },
    {
      "cell_type": "code",
      "source": [
        "def calculate_loss(preds, label_data):\n",
        "  return torch.abs(preds-label_data).mean()"
      ],
      "metadata": {
        "id": "gM3bGwd1Tvw-"
      },
      "execution_count": 16,
      "outputs": []
    },
    {
      "cell_type": "code",
      "source": [
        "loss = calculate_loss(preds, label_data)\n",
        "loss"
      ],
      "metadata": {
        "colab": {
          "base_uri": "https://localhost:8080/"
        },
        "id": "yl82jsUHTvtz",
        "outputId": "a4c71615-40cb-4725-bdd9-b6f239ced99c"
      },
      "execution_count": 17,
      "outputs": [
        {
          "output_type": "execute_result",
          "data": {
            "text/plain": [
              "tensor(4.4011)"
            ]
          },
          "metadata": {},
          "execution_count": 17
        }
      ]
    },
    {
      "cell_type": "markdown",
      "source": [
        "# Calculate Gradients and Backpropagation"
      ],
      "metadata": {
        "id": "v-C5jj6zYbxF"
      }
    },
    {
      "cell_type": "code",
      "source": [
        "weights.requires_grad_()"
      ],
      "metadata": {
        "colab": {
          "base_uri": "https://localhost:8080/"
        },
        "id": "UHfUAKDZVsLt",
        "outputId": "05033783-4c10-4e61-b2af-fe1515e65692"
      },
      "execution_count": 18,
      "outputs": [
        {
          "output_type": "execute_result",
          "data": {
            "text/plain": [
              "tensor([0.8823, 0.9150, 0.3829, 0.9593, 0.3904, 0.6009, 0.2566, 0.7936, 0.9408,\n",
              "        0.1332, 0.9346, 0.5936, 0.8694, 0.5677, 0.7411, 0.4294, 0.8854, 0.5739,\n",
              "        0.2666], requires_grad=True)"
            ]
          },
          "metadata": {},
          "execution_count": 18
        }
      ]
    },
    {
      "cell_type": "code",
      "source": [
        "preds = calculate_preds(weights, feature_data)\n",
        "loss = calculate_loss(preds, label_data)\n",
        "loss"
      ],
      "metadata": {
        "colab": {
          "base_uri": "https://localhost:8080/"
        },
        "id": "GpE1FBmiVsIW",
        "outputId": "7874dddf-8cb6-4563-b0cf-6fc7484931ea"
      },
      "execution_count": 19,
      "outputs": [
        {
          "output_type": "execute_result",
          "data": {
            "text/plain": [
              "tensor(4.4011, grad_fn=<MeanBackward0>)"
            ]
          },
          "metadata": {},
          "execution_count": 19
        }
      ]
    },
    {
      "cell_type": "code",
      "source": [
        "# Backpropagation\n",
        "loss.backward()"
      ],
      "metadata": {
        "id": "BdmtTJ7EVsFc"
      },
      "execution_count": 20,
      "outputs": []
    },
    {
      "cell_type": "code",
      "source": [
        "weights.grad"
      ],
      "metadata": {
        "colab": {
          "base_uri": "https://localhost:8080/"
        },
        "id": "FSkMJuFbVsCh",
        "outputId": "301affa3-aa9a-4b34-bdd4-dedb2739b95c"
      },
      "execution_count": 21,
      "outputs": [
        {
          "output_type": "execute_result",
          "data": {
            "text/plain": [
              "tensor([0.4293, 0.1272, 0.6297, 0.2889, 0.9531, 0.6683, 0.0107, 0.0199, 0.4083,\n",
              "        0.9100, 1.0000, 0.0628, 0.0417, 0.6928, 0.2294, 0.4708, 0.5089, 0.6683,\n",
              "        0.9129])"
            ]
          },
          "metadata": {},
          "execution_count": 21
        }
      ]
    },
    {
      "cell_type": "markdown",
      "source": [
        "# Gradient Step"
      ],
      "metadata": {
        "id": "eM5jiUdNYxOD"
      }
    },
    {
      "cell_type": "code",
      "source": [
        "learning_rate = 0.1\n",
        "\n",
        "with torch.no_grad():\n",
        "  weights.sub_(weights.grad * learning_rate)\n",
        "  preds = calculate_preds(weights, feature_data)\n",
        "  loss = calculate_loss(preds, label_data)\n",
        "  print(loss)"
      ],
      "metadata": {
        "colab": {
          "base_uri": "https://localhost:8080/"
        },
        "id": "Alfbz_AOVr_i",
        "outputId": "da769649-1d92-45e1-9195-17e283162bb1"
      },
      "execution_count": 22,
      "outputs": [
        {
          "output_type": "stream",
          "name": "stdout",
          "text": [
            "tensor(3.7681)\n"
          ]
        }
      ]
    },
    {
      "cell_type": "markdown",
      "source": [
        "# Setting Up everything together"
      ],
      "metadata": {
        "id": "UJ_1vqXuafYl"
      }
    },
    {
      "cell_type": "code",
      "source": [
        "train_feature_df = train_df[train_df.columns[:-1]].astype(float)\n",
        "train_features = tensor(train_feature_df.values, dtype=torch.float)\n",
        "train_labels = tensor(train_df.high_income, dtype=torch.int)"
      ],
      "metadata": {
        "id": "a1jA8aegaiNa"
      },
      "execution_count": 23,
      "outputs": []
    },
    {
      "cell_type": "code",
      "source": [
        "max_value, _ = train_features.max(dim=0)\n",
        "train_features /= max_value"
      ],
      "metadata": {
        "id": "0CR8SpLNaiKC"
      },
      "execution_count": 24,
      "outputs": []
    },
    {
      "cell_type": "code",
      "source": [
        "test_feature_df = test_df[test_df.columns[:-1]].astype(float)\n",
        "test_features = tensor(test_feature_df.values, dtype=torch.float)\n",
        "test_labels = tensor(test_df.high_income, dtype=torch.int)"
      ],
      "metadata": {
        "id": "5-1PEpY3asK_"
      },
      "execution_count": 25,
      "outputs": []
    },
    {
      "cell_type": "code",
      "source": [
        "max_value, _ = test_features.max(dim=0)\n",
        "test_features /= max_value"
      ],
      "metadata": {
        "id": "L6mpc06fat8O"
      },
      "execution_count": 26,
      "outputs": []
    },
    {
      "cell_type": "code",
      "source": [
        "def init_weights():\n",
        "  torch.manual_seed(42)\n",
        "  n_params = train_features.shape[1]\n",
        "  weights = torch.rand(n_params)\n",
        "  return weights.requires_grad_()"
      ],
      "metadata": {
        "id": "J9mBn5e3Z_05"
      },
      "execution_count": 27,
      "outputs": []
    },
    {
      "cell_type": "code",
      "source": [
        "def calculate_preds(weights, features):\n",
        "  mults = (features * weights)\n",
        "  preds = mults.sum(axis=1)\n",
        "  return preds"
      ],
      "metadata": {
        "id": "DhnXu8Q_a32e"
      },
      "execution_count": 28,
      "outputs": []
    },
    {
      "cell_type": "code",
      "source": [
        "def calculate_loss(preds, labels):\n",
        "  return torch.abs(preds-labels).mean()"
      ],
      "metadata": {
        "id": "PHL8mU0Ya7RZ"
      },
      "execution_count": 29,
      "outputs": []
    },
    {
      "cell_type": "code",
      "source": [
        "def update_weights(weights, lr):\n",
        "  weights.sub_(weights.grad * lr)\n",
        "  return"
      ],
      "metadata": {
        "id": "Ls04JZN-a9H0"
      },
      "execution_count": 30,
      "outputs": []
    },
    {
      "cell_type": "code",
      "source": [
        "def one_epoch(epoch_no, weights, lr):\n",
        "  preds = calculate_preds(weights, feature_data)\n",
        "  loss = calculate_loss(preds, train_labels)\n",
        "  loss.backward()\n",
        "  with torch.no_grad(): update_weights(weights, lr)\n",
        "  print(f\"Epoch {epoch_no+1} => Loss: {loss}\")"
      ],
      "metadata": {
        "id": "rd1c_hFYVr8c"
      },
      "execution_count": 31,
      "outputs": []
    },
    {
      "cell_type": "code",
      "source": [
        "def train_model(epochs, lr):\n",
        "  weights = init_weights()\n",
        "  for epoch_no in range(epochs):\n",
        "    one_epoch(epoch_no, weights, lr)\n",
        "  return weights"
      ],
      "metadata": {
        "id": "mHbAY7IUVr5K"
      },
      "execution_count": 32,
      "outputs": []
    },
    {
      "cell_type": "code",
      "source": [
        "weights = train_model(epochs=15, lr=0.01)"
      ],
      "metadata": {
        "colab": {
          "base_uri": "https://localhost:8080/"
        },
        "id": "QyqZ8yhUVr2A",
        "outputId": "81352ad1-e2e2-41a1-99b2-9f98f8a66a79"
      },
      "execution_count": 33,
      "outputs": [
        {
          "output_type": "stream",
          "name": "stdout",
          "text": [
            "Epoch 1 => Loss: 4.401118278503418\n",
            "Epoch 2 => Loss: 4.337820053100586\n",
            "Epoch 3 => Loss: 4.2112226486206055\n",
            "Epoch 4 => Loss: 4.021326065063477\n",
            "Epoch 5 => Loss: 3.768131971359253\n",
            "Epoch 6 => Loss: 3.45163893699646\n",
            "Epoch 7 => Loss: 3.0718469619750977\n",
            "Epoch 8 => Loss: 2.628756284713745\n",
            "Epoch 9 => Loss: 2.122382640838623\n",
            "Epoch 10 => Loss: 1.5549633502960205\n",
            "Epoch 11 => Loss: 0.9629470705986023\n",
            "Epoch 12 => Loss: 0.6690229773521423\n",
            "Epoch 13 => Loss: 0.8212868571281433\n",
            "Epoch 14 => Loss: 1.225162148475647\n",
            "Epoch 15 => Loss: 1.7557687759399414\n"
          ]
        }
      ]
    },
    {
      "cell_type": "code",
      "source": [
        "torch.save(weights, \"linear_model_weights.pt\")"
      ],
      "metadata": {
        "id": "NK6A825TVryu"
      },
      "execution_count": 34,
      "outputs": []
    },
    {
      "cell_type": "code",
      "source": [
        "test_preds = calculate_preds(weights, test_features)\n",
        "test_preds[:5]"
      ],
      "metadata": {
        "colab": {
          "base_uri": "https://localhost:8080/"
        },
        "id": "rsmqhUzlVrvy",
        "outputId": "757766ac-7501-4d95-fe23-cac56198e120"
      },
      "execution_count": 35,
      "outputs": [
        {
          "output_type": "execute_result",
          "data": {
            "text/plain": [
              "tensor([-0.6887, -1.9811, -1.4544, -1.9354, -1.5654], grad_fn=<SliceBackward0>)"
            ]
          },
          "metadata": {},
          "execution_count": 35
        }
      ]
    },
    {
      "cell_type": "code",
      "source": [
        "results = test_labels == (test_preds > 0.5).int()\n",
        "results[:5]"
      ],
      "metadata": {
        "colab": {
          "base_uri": "https://localhost:8080/"
        },
        "id": "kuPWvnqEmv5l",
        "outputId": "91d6a53a-d78f-438f-e100-6766ae2c8e67"
      },
      "execution_count": 36,
      "outputs": [
        {
          "output_type": "execute_result",
          "data": {
            "text/plain": [
              "tensor([False, False, False, False, False])"
            ]
          },
          "metadata": {},
          "execution_count": 36
        }
      ]
    },
    {
      "cell_type": "code",
      "source": [
        "results.float().mean()"
      ],
      "metadata": {
        "colab": {
          "base_uri": "https://localhost:8080/"
        },
        "id": "N_92h9RJVrsb",
        "outputId": "9c0b159d-c020-48e3-e9db-68d93298c27e"
      },
      "execution_count": 37,
      "outputs": [
        {
          "output_type": "execute_result",
          "data": {
            "text/plain": [
              "tensor(0.2398)"
            ]
          },
          "metadata": {},
          "execution_count": 37
        }
      ]
    },
    {
      "cell_type": "code",
      "source": [
        "def accuracy(weights, features):\n",
        "  preds = calculate_preds(weights, features)\n",
        "  results = test_labels == (preds > 0.5).int()\n",
        "  return results.float().mean()"
      ],
      "metadata": {
        "id": "b-s_BqkOm1r2"
      },
      "execution_count": 38,
      "outputs": []
    },
    {
      "cell_type": "code",
      "source": [
        "trained_weights = torch.load(\"linear_model_weights.pt\")"
      ],
      "metadata": {
        "id": "12T_zzS6nBWP"
      },
      "execution_count": 39,
      "outputs": []
    },
    {
      "cell_type": "code",
      "source": [
        "accuracy(trained_weights, test_features)"
      ],
      "metadata": {
        "colab": {
          "base_uri": "https://localhost:8080/"
        },
        "id": "t4hmxQ2sm6Ah",
        "outputId": "73a230f9-4ff1-4bbc-fd00-021ad3f626fc"
      },
      "execution_count": 40,
      "outputs": [
        {
          "output_type": "execute_result",
          "data": {
            "text/plain": [
              "tensor(0.2398)"
            ]
          },
          "metadata": {},
          "execution_count": 40
        }
      ]
    },
    {
      "cell_type": "code",
      "source": [],
      "metadata": {
        "id": "xkaqyVxZm59G"
      },
      "execution_count": 40,
      "outputs": []
    }
  ]
}